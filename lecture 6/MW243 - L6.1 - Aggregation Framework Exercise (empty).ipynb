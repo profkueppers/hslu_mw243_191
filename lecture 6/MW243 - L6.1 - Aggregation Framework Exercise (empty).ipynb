{
 "cells": [
  {
   "cell_type": "markdown",
   "metadata": {},
   "source": [
    "# Load required modules"
   ]
  },
  {
   "cell_type": "code",
   "execution_count": null,
   "metadata": {},
   "outputs": [],
   "source": [
    "# MongoDB\n",
    "from pymongo import MongoClient\n",
    "from pymongo.database import Database\n",
    "\n",
    "from pprint import pprint\n",
    "\n",
    "import pandas as pd\n",
    "\n",
    "from bson.son import SON"
   ]
  },
  {
   "cell_type": "markdown",
   "metadata": {},
   "source": [
    "### Connect to a the Atlas Cluster"
   ]
  },
  {
   "cell_type": "code",
   "execution_count": null,
   "metadata": {},
   "outputs": [],
   "source": [
    "# to be deleted before push!\n",
    "connection_string = \"PUT YOUR CONNECTION STRING HERE\"\n",
    "\n",
    "client = MongoClient(connection_string)\n",
    "mw243 = Database(client, 'mw243')  # connect to the mw243 database"
   ]
  },
  {
   "cell_type": "code",
   "execution_count": null,
   "metadata": {},
   "outputs": [],
   "source": [
    "# this is a helper function that improves our query calls (MongoDB Standard Queries)\n",
    "\n",
    "def execute_query_return_df(query={}, projection=None, limit=10, collection=mw243.restaurants):\n",
    "    if projection:\n",
    "        cursor = collection.find(query, projection).limit(limit)\n",
    "    else:\n",
    "        cursor = collection.find(query).limit(limit)\n",
    "    return pd.DataFrame(list(cursor))"
   ]
  },
  {
   "cell_type": "code",
   "execution_count": null,
   "metadata": {},
   "outputs": [],
   "source": [
    "# this is a helper function for the aggregation framework\n",
    "def execute_pipeline(pipeline, collection=mw243.orders):\n",
    "    return list(collection.aggregate(pipeline))"
   ]
  },
  {
   "cell_type": "markdown",
   "metadata": {},
   "source": [
    "<img src=\"exercise.png\">\n",
    "\n",
    "## Exercise 6.1 <img src=\"mongodb.png\" width=120 align=\"right\">\n",
    "Insert the provided documents (see lecture slides) into a collection \"orders\"."
   ]
  },
  {
   "cell_type": "code",
   "execution_count": null,
   "metadata": {},
   "outputs": [],
   "source": []
  },
  {
   "cell_type": "markdown",
   "metadata": {},
   "source": [
    "<img src=\"exercise.png\">\n",
    "\n",
    "## Exercise 6.2 <img src=\"mongodb.png\" width=120 align=\"right\">\n",
    "Execute a query that is comparable to <code>SELECT COUNT(*) AS count FROM orders</code>."
   ]
  },
  {
   "cell_type": "code",
   "execution_count": null,
   "metadata": {},
   "outputs": [],
   "source": [
    "pipeline = [ \n",
    "    # PUT YOUR STAGES HERE\n",
    "    { \"$limit\" : 30}  # please do not remove this pipeline stage\n",
    "]\n",
    "result = execute_pipeline(pipeline, collection=agg_db.movies)"
   ]
  },
  {
   "cell_type": "markdown",
   "metadata": {},
   "source": [
    "<img src=\"exercise.png\">\n",
    "\n",
    "## Exercise 6.3 <img src=\"mongodb.png\" width=120 align=\"right\">\n",
    "Execute a query that is comparable to <code>SELECT SUM(price) AS total FROM orders</code>."
   ]
  },
  {
   "cell_type": "code",
   "execution_count": null,
   "metadata": {},
   "outputs": [],
   "source": [
    "pipeline = [ \n",
    "    # PUT YOUR STAGES HERE\n",
    "    { \"$limit\" : 30}  # please do not remove this pipeline stage\n",
    "]\n",
    "result = execute_pipeline(pipeline, collection=agg_db.movies)"
   ]
  },
  {
   "cell_type": "markdown",
   "metadata": {},
   "source": [
    "<img src=\"exercise.png\">\n",
    "\n",
    "## Exercise 6.4 <img src=\"mongodb.png\" width=120 align=\"right\">\n",
    "Execute a query that is comparable to <code>SELECT cust_id, SUM(price) AS total FROM orders GROUP BY cust_id</code>."
   ]
  },
  {
   "cell_type": "code",
   "execution_count": null,
   "metadata": {},
   "outputs": [],
   "source": [
    "pipeline = [ \n",
    "    # PUT YOUR STAGES HERE\n",
    "    { \"$limit\" : 30}  # please do not remove this pipeline stage\n",
    "]\n",
    "result = execute_pipeline(pipeline, collection=agg_db.movies)"
   ]
  },
  {
   "cell_type": "markdown",
   "metadata": {},
   "source": [
    "<img src=\"exercise.png\">\n",
    "\n",
    "## Exercise 6.5 <img src=\"mongodb.png\" width=120 align=\"right\">\n",
    "Execute a query that is comparable to <code>SELECT cust_id, SUM(price) AS total FROM orders GROUP BY cust_id ORDER BY total desc</code>."
   ]
  },
  {
   "cell_type": "code",
   "execution_count": null,
   "metadata": {},
   "outputs": [],
   "source": [
    "pipeline = [ \n",
    "    # PUT YOUR STAGES HERE\n",
    "    { \"$limit\" : 30}  # please do not remove this pipeline stage\n",
    "]\n",
    "result = execute_pipeline(pipeline, collection=agg_db.movies)"
   ]
  },
  {
   "cell_type": "markdown",
   "metadata": {},
   "source": [
    "<img src=\"exercise.png\">\n",
    "\n",
    "## Exercise 6.6 <img src=\"mongodb.png\" width=120 align=\"right\">\n",
    "Execute a query that is comparable to <code>SELECT cust_id, count(\\*) FROM orders GROUP BY cust_id HAVING count(*) > 1</code>."
   ]
  },
  {
   "cell_type": "code",
   "execution_count": null,
   "metadata": {},
   "outputs": [],
   "source": [
    "pipeline = [ \n",
    "    # PUT YOUR STAGES HERE\n",
    "    { \"$limit\" : 30}  # please do not remove this pipeline stage\n",
    "]\n",
    "result = execute_pipeline(pipeline, collection=agg_db.movies)"
   ]
  },
  {
   "cell_type": "markdown",
   "metadata": {},
   "source": [
    "<img src=\"exercise.png\">\n",
    "\n",
    "## Exercise 6.7 <img src=\"mongodb.png\" width=120 align=\"right\">\n",
    "Execute a query that is comparable to <code>SELECT cust_id, SUM(price) as total FROM orders WHERE status = 'B' GROUP BY cust_id HAVING total > 90</code>."
   ]
  },
  {
   "cell_type": "code",
   "execution_count": null,
   "metadata": {},
   "outputs": [],
   "source": [
    "pipeline = [ \n",
    "    # PUT YOUR STAGES HERE\n",
    "    { \"$limit\" : 30}  # please do not remove this pipeline stage\n",
    "]\n",
    "result = execute_pipeline(pipeline, collection=agg_db.movies)"
   ]
  },
  {
   "cell_type": "markdown",
   "metadata": {},
   "source": [
    "<img src=\"exercise.png\">\n",
    "\n",
    "## Exercise 6.8 <img src=\"mongodb.png\" width=120 align=\"right\">\n",
    "What is the result of an aggregation pipeline when you use an unwind stage <code>( [ {$unwind : \"$items\" }])</code> on the orders collection?"
   ]
  },
  {
   "cell_type": "code",
   "execution_count": null,
   "metadata": {},
   "outputs": [],
   "source": [
    "pipeline = [ \n",
    "    # PUT YOUR STAGES HERE\n",
    "    { \"$limit\" : 30}  # please do not remove this pipeline stage\n",
    "]\n",
    "result = execute_pipeline(pipeline, collection=agg_db.movies)"
   ]
  },
  {
   "cell_type": "markdown",
   "metadata": {},
   "source": [
    "<img src=\"exercise.png\">\n",
    "\n",
    "## Exercise 6.9<img src=\"mongodb.png\" width=120 align=\"right\">\n",
    "Execute a query that is comparable to <code>SELECT o.cust_id, SUM(ol.qty) as qty FROM orders o INNER JOIN orderlines ol ON o.order_id = ol.order_id GROUP BY o.cust_id</code>."
   ]
  },
  {
   "cell_type": "code",
   "execution_count": null,
   "metadata": {},
   "outputs": [],
   "source": [
    "pipeline = [ \n",
    "    # PUT YOUR STAGES HERE\n",
    "    { \"$limit\" : 30}  # please do not remove this pipeline stage\n",
    "]\n",
    "result = execute_pipeline(pipeline, collection=agg_db.movies)"
   ]
  },
  {
   "cell_type": "markdown",
   "metadata": {},
   "source": [
    "<img src=\"exercise.png\">\n",
    "\n",
    "## Exercise 6.10 <img src=\"mongodb.png\" width=120 align=\"right\">\n",
    "Insert the given documents (see lecture slides) into a collection <code>orders_nuts</code> and <code>inventory</code>."
   ]
  },
  {
   "cell_type": "code",
   "execution_count": null,
   "metadata": {},
   "outputs": [],
   "source": []
  },
  {
   "cell_type": "markdown",
   "metadata": {},
   "source": [
    "<img src=\"exercise.png\">\n",
    "\n",
    "## Exercise 6.11 <img src=\"mongodb.png\" width=120 align=\"right\">\n",
    "Join both collections using the aggregate-function ($lookup) on the orders collection.<br>\n",
    "Within orders, the item names are stored in the field \"item\" while within the inventory collection the item names are stored in the field \"sku\".<br>\n",
    "Take a look at the output. "
   ]
  },
  {
   "cell_type": "code",
   "execution_count": null,
   "metadata": {},
   "outputs": [],
   "source": [
    "pipeline = [ \n",
    "    # PUT YOUR STAGES HERE\n",
    "    { \"$limit\" : 30}  # please do not remove this pipeline stage\n",
    "]\n",
    "result = execute_pipeline(pipeline, collection=agg_db.movies)"
   ]
  }
 ],
 "metadata": {
  "kernelspec": {
   "display_name": "Python 3",
   "language": "python",
   "name": "python3"
  },
  "language_info": {
   "codemirror_mode": {
    "name": "ipython",
    "version": 3
   },
   "file_extension": ".py",
   "mimetype": "text/x-python",
   "name": "python",
   "nbconvert_exporter": "python",
   "pygments_lexer": "ipython3",
   "version": "3.6.6"
  }
 },
 "nbformat": 4,
 "nbformat_minor": 2
}
