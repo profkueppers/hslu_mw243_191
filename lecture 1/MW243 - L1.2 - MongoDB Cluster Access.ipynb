{
 "cells": [
  {
   "cell_type": "markdown",
   "metadata": {},
   "source": [
    "# Load required modules"
   ]
  },
  {
   "cell_type": "code",
   "execution_count": null,
   "metadata": {},
   "outputs": [],
   "source": [
    "from pymongo import MongoClient\n",
    "from pymongo.database import Database\n",
    "import pandas as pd"
   ]
  },
  {
   "cell_type": "markdown",
   "metadata": {},
   "source": [
    "# Connect to the NoSQL database\n",
    "You'll need to build the connection string based on the information in your MongoDB Atlas cluster."
   ]
  },
  {
   "cell_type": "code",
   "execution_count": null,
   "metadata": {},
   "outputs": [],
   "source": [
    "connection_string = \"PUT HERE THE CONNECTION STRING FROM ATLAS\"\n",
    "\n",
    "client = MongoClient(connection_string)\n",
    "my_first_db = Database(client, 'my_first_db')  # connect to a database\n"
   ]
  },
  {
   "cell_type": "markdown",
   "metadata": {},
   "source": [
    "# Insert data into a new table 'lieferant'\n",
    "Since everyone works on his/her own cluster, we can omit the trailing _XXXXXX<br>\n",
    "## What is necessary before being able to insert data into a new table?"
   ]
  },
  {
   "cell_type": "markdown",
   "metadata": {},
   "source": [
    "### Step 1: MongoDB does not require any schema definition up-front - we can just insert\n",
    "Remember: NoSQL-databases are schemaless. We even do not have to create the table (which is called collection in MongoDB)."
   ]
  },
  {
   "cell_type": "code",
   "execution_count": null,
   "metadata": {},
   "outputs": [],
   "source": [
    "# MongoDB stores documents in the JSON format - here is an example of a document that corresponds to a row in a relational DB\n",
    "doc = {\n",
    "    'lieferant_id' : 1,\n",
    "    'vorname' : 'Peter',\n",
    "    'nachname' : 'Mueller',\n",
    "}\n",
    "\n",
    "\n",
    "my_first_db.lieferant.insert_one(doc)  # insert the document into the collection 'lieferant' (which is created automatically)"
   ]
  },
  {
   "cell_type": "markdown",
   "metadata": {},
   "source": [
    "### Step 2: Read the inserted data"
   ]
  },
  {
   "cell_type": "code",
   "execution_count": null,
   "metadata": {},
   "outputs": [],
   "source": [
    "cursor = my_first_db.lieferant.find()\n",
    "\n",
    "df = pd.DataFrame(list(cursor))  # convert to a dataframe for better visualization\n",
    "df"
   ]
  },
  {
   "cell_type": "markdown",
   "metadata": {},
   "source": [
    "# The data structure of table 'lieferant' changes\n",
    "We want to add the zip code as column.\n",
    "## What is necessary before being able to insert the new data structure into the table?"
   ]
  },
  {
   "cell_type": "markdown",
   "metadata": {},
   "source": [
    "### Step 1: MongoDB allows inserting documents (analogy to the row in a relational database) with different structures - we can just insert"
   ]
  },
  {
   "cell_type": "code",
   "execution_count": null,
   "metadata": {},
   "outputs": [],
   "source": [
    "doc = {\n",
    "    'lieferant_id' : 2,\n",
    "    'vorname' : 'Heike',\n",
    "    'nachname' : 'Fischer',\n",
    "    'zip' : '76555'\n",
    "}\n",
    "\n",
    "\n",
    "my_first_db.lieferant.insert_one(doc)"
   ]
  },
  {
   "cell_type": "markdown",
   "metadata": {},
   "source": [
    "### Step 2: Read the inserted data"
   ]
  },
  {
   "cell_type": "code",
   "execution_count": null,
   "metadata": {},
   "outputs": [],
   "source": [
    "cursor = my_first_db.lieferant.find()\n",
    "\n",
    "df = pd.DataFrame(list(cursor))  # convert to a dataframe for better visualization\n",
    "df"
   ]
  },
  {
   "cell_type": "markdown",
   "metadata": {},
   "source": [
    "# This is a schemaless database\n",
    "\n",
    "## Question: What are the implications of a schemaless approach?"
   ]
  },
  {
   "cell_type": "markdown",
   "metadata": {},
   "source": [
    "## Let us clean up"
   ]
  },
  {
   "cell_type": "code",
   "execution_count": null,
   "metadata": {},
   "outputs": [],
   "source": [
    "my_first_db.lieferant.delete_many({})"
   ]
  }
 ],
 "metadata": {
  "kernelspec": {
   "display_name": "Python 3",
   "language": "python",
   "name": "python3"
  },
  "language_info": {
   "codemirror_mode": {
    "name": "ipython",
    "version": 3
   },
   "file_extension": ".py",
   "mimetype": "text/x-python",
   "name": "python",
   "nbconvert_exporter": "python",
   "pygments_lexer": "ipython3",
   "version": "3.6.6"
  }
 },
 "nbformat": 4,
 "nbformat_minor": 2
}
