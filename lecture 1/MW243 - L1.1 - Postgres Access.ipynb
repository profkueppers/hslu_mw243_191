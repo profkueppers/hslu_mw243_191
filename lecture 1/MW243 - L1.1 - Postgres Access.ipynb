{
 "cells": [
  {
   "cell_type": "markdown",
   "metadata": {},
   "source": [
    "# Load required modules"
   ]
  },
  {
   "cell_type": "code",
   "execution_count": null,
   "metadata": {},
   "outputs": [],
   "source": [
    "import psycopg2  # handles database connection to postgres db\n",
    "import pandas.io.sql as sqlio  # we'll use this for improved query presentation"
   ]
  },
  {
   "cell_type": "markdown",
   "metadata": {},
   "source": [
    "# Connect to the relational database"
   ]
  },
  {
   "cell_type": "code",
   "execution_count": null,
   "metadata": {},
   "outputs": [],
   "source": [
    "# go to the templates folder to get the credentials (from MW243 - Links & Templates)"
   ]
  },
  {
   "cell_type": "markdown",
   "metadata": {},
   "source": [
    "# Let us look at some example data in tables 'auftrag' and 'kunde'"
   ]
  },
  {
   "cell_type": "code",
   "execution_count": null,
   "metadata": {},
   "outputs": [],
   "source": [
    "# Select all elements from table auftrag\n",
    "sql = \"\"\"\n",
    "SELECT * FROM auftrag\n",
    "\"\"\"\n",
    "\n",
    "dat = sqlio.read_sql_query(sql, conn)\n",
    "dat"
   ]
  },
  {
   "cell_type": "code",
   "execution_count": null,
   "metadata": {},
   "outputs": [],
   "source": [
    "# Select all elements from table kunde\n",
    "sql = \"\"\"\n",
    "SELECT * FROM kunde\n",
    "\"\"\"\n",
    "\n",
    "dat = sqlio.read_sql_query(sql, conn)\n",
    "dat"
   ]
  },
  {
   "cell_type": "markdown",
   "metadata": {},
   "source": [
    "# Insert data into a new table 'lieferant_XXXXXX'\n",
    "Please replace XXXXXX with your matriculation number!<br>\n",
    "## What is necessary before being able to insert data into a new table?"
   ]
  },
  {
   "cell_type": "markdown",
   "metadata": {},
   "source": [
    "### Step 1: ?"
   ]
  },
  {
   "cell_type": "code",
   "execution_count": null,
   "metadata": {},
   "outputs": [],
   "source": [
    "sql = \"\"\"\n",
    "PUT YOUR SQL CODE HERE!\n",
    "\"\"\"\n",
    "\n",
    "cur = conn.cursor()\n",
    "try:\n",
    "    cur.execute(sql)\n",
    "except Exception as e:\n",
    "    print(\"Error creating the table: {}\".format(e))\n",
    "\n",
    "conn.commit()"
   ]
  },
  {
   "cell_type": "markdown",
   "metadata": {},
   "source": [
    "### Step 2: Insert"
   ]
  },
  {
   "cell_type": "code",
   "execution_count": null,
   "metadata": {},
   "outputs": [],
   "source": [
    "sql = \"\"\"\n",
    "PUT YOUR SQL CODE HERE!\n",
    "\"\"\"\n",
    "\n",
    "cur = conn.cursor()\n",
    "try:\n",
    "    cur.execute(sql)\n",
    "except Exception as e:\n",
    "    print(\"Error inserting into table: {}\".format(e))\n",
    "\n",
    "conn.commit()"
   ]
  },
  {
   "cell_type": "markdown",
   "metadata": {},
   "source": [
    "### Step 3: Read the inserted data"
   ]
  },
  {
   "cell_type": "code",
   "execution_count": null,
   "metadata": {},
   "outputs": [],
   "source": [
    "# Select all elements from table kunde\n",
    "sql = \"\"\"\n",
    "PUT YOUR SQL CODE HERE!\n",
    "\"\"\"\n",
    "\n",
    "dat = sqlio.read_sql_query(sql, conn)\n",
    "dat"
   ]
  },
  {
   "cell_type": "markdown",
   "metadata": {},
   "source": [
    "# The data structure of table 'lieferant_XXXXXX' changes\n",
    "We want to add the zip code as column.\n",
    "## What is necessary before being able to insert the new data structure into the table?"
   ]
  },
  {
   "cell_type": "markdown",
   "metadata": {},
   "source": [
    "### Step 1: ?"
   ]
  },
  {
   "cell_type": "code",
   "execution_count": null,
   "metadata": {},
   "outputs": [],
   "source": [
    "sql = \"\"\"\n",
    "PUT YOUR SQL CODE HERE!\n",
    "\"\"\"\n",
    "\n",
    "cur = conn.cursor()\n",
    "try:\n",
    "    cur.execute(sql)\n",
    "except Exception as e:\n",
    "    print(\"Error changing table structure: {}\".format(e))\n",
    "\n",
    "conn.commit()"
   ]
  },
  {
   "cell_type": "markdown",
   "metadata": {},
   "source": [
    "### Step 2: Insert"
   ]
  },
  {
   "cell_type": "code",
   "execution_count": null,
   "metadata": {},
   "outputs": [],
   "source": [
    "sql = \"\"\"\n",
    "PUT YOUR SQL CODE HERE!\n",
    "\"\"\"\n",
    "\n",
    "cur = conn.cursor()\n",
    "try:\n",
    "    cur.execute(sql)\n",
    "except Exception as e:\n",
    "    print(\"Error inserting into table: {}\".format(e))\n",
    "\n",
    "conn.commit()"
   ]
  },
  {
   "cell_type": "markdown",
   "metadata": {},
   "source": [
    "### Step 3: Read the inserted data"
   ]
  },
  {
   "cell_type": "code",
   "execution_count": null,
   "metadata": {},
   "outputs": [],
   "source": [
    "# Select all elements from table kunde\n",
    "sql = \"\"\"\n",
    "PUT YOUR SQL CODE HERE!\n",
    "\"\"\"\n",
    "\n",
    "dat = sqlio.read_sql_query(sql, conn)\n",
    "dat"
   ]
  },
  {
   "cell_type": "markdown",
   "metadata": {},
   "source": [
    "# Let us clean up: delete the table and close connection"
   ]
  },
  {
   "cell_type": "code",
   "execution_count": null,
   "metadata": {},
   "outputs": [],
   "source": [
    "sql = \"\"\"\n",
    "DROP TABLE lieferant_XXXXXX\n",
    "\"\"\"\n",
    "\n",
    "cur = conn.cursor()\n",
    "try:\n",
    "    cur.execute(sql)\n",
    "except Exception as e:\n",
    "    print(\"Error deleting table: {}\".format(e))\n",
    "\n",
    "conn.commit()"
   ]
  },
  {
   "cell_type": "code",
   "execution_count": null,
   "metadata": {},
   "outputs": [],
   "source": [
    "conn.close()"
   ]
  },
  {
   "cell_type": "code",
   "execution_count": null,
   "metadata": {},
   "outputs": [],
   "source": []
  }
 ],
 "metadata": {
  "kernelspec": {
   "display_name": "Python 3",
   "language": "python",
   "name": "python3"
  },
  "language_info": {
   "codemirror_mode": {
    "name": "ipython",
    "version": 3
   },
   "file_extension": ".py",
   "mimetype": "text/x-python",
   "name": "python",
   "nbconvert_exporter": "python",
   "pygments_lexer": "ipython3",
   "version": "3.6.6"
  }
 },
 "nbformat": 4,
 "nbformat_minor": 2
}
