{
 "cells": [
  {
   "cell_type": "markdown",
   "metadata": {},
   "source": [
    "# Load required modules"
   ]
  },
  {
   "cell_type": "code",
   "execution_count": null,
   "metadata": {},
   "outputs": [],
   "source": [
    "# MongoDB\n",
    "from pymongo import MongoClient\n",
    "from pymongo.database import Database\n",
    "\n",
    "from pprint import pprint\n",
    "\n",
    "import pandas as pd\n",
    "\n"
   ]
  },
  {
   "cell_type": "markdown",
   "metadata": {},
   "source": [
    "# Document Store Database Structure"
   ]
  },
  {
   "cell_type": "markdown",
   "metadata": {},
   "source": [
    "<img src=\"exercise.png\">\n",
    "\n",
    "## Exercise 4.1 <img src=\"mongodb.png\" width=120 align=\"right\">"
   ]
  },
  {
   "cell_type": "markdown",
   "metadata": {},
   "source": [
    "### Connect to a cluster provided by MongoDB "
   ]
  },
  {
   "cell_type": "code",
   "execution_count": null,
   "metadata": {},
   "outputs": [],
   "source": [
    "# to be deleted before push!\n",
    "connection_string = \"xxx\"\n",
    "\n",
    "client = MongoClient(connection_string)"
   ]
  },
  {
   "cell_type": "markdown",
   "metadata": {},
   "source": [
    "### Show available databases"
   ]
  },
  {
   "cell_type": "code",
   "execution_count": null,
   "metadata": {},
   "outputs": [],
   "source": [
    "# take a look at the available databases\n",
    "client.list_database_names()"
   ]
  },
  {
   "cell_type": "markdown",
   "metadata": {},
   "source": [
    "### Connect to a database (e.g. mflix)"
   ]
  },
  {
   "cell_type": "code",
   "execution_count": null,
   "metadata": {},
   "outputs": [],
   "source": [
    "mflix = Database(client, 'mflix')  # connect to the mflix database"
   ]
  },
  {
   "cell_type": "markdown",
   "metadata": {},
   "source": [
    "### Show collection names"
   ]
  },
  {
   "cell_type": "code",
   "execution_count": null,
   "metadata": {},
   "outputs": [],
   "source": [
    "mflix.list_collection_names()"
   ]
  },
  {
   "cell_type": "markdown",
   "metadata": {},
   "source": [
    "## Understand the structure of JSON documents in the mflix database"
   ]
  },
  {
   "cell_type": "markdown",
   "metadata": {},
   "source": [
    "### Take a look at the first three documents (JSON-form)\n",
    "You can use <code>limit(no_of_docs)</code> to limit the number of documents being retrieved by a cursor.<br>\n",
    "Furthermore, please note that we imported the <code>pprint</code>-method which can be used for \"pretty printing\" JSON documents. Just call <code>pprint(doc)</code> instead of <code>print(doc)</code>."
   ]
  },
  {
   "cell_type": "code",
   "execution_count": null,
   "metadata": {},
   "outputs": [],
   "source": [
    "cursor = mflix.movies.find().limit(3)\n",
    "\n",
    "for doc in cursor:\n",
    "    pprint(doc)"
   ]
  },
  {
   "cell_type": "markdown",
   "metadata": {},
   "source": [
    "You can also pass the whole cursor (as a <code>list</code>) to a pandas dataframe for a list view of the data. Please note that nested structures cannot be represented easily this way."
   ]
  },
  {
   "cell_type": "code",
   "execution_count": null,
   "metadata": {},
   "outputs": [],
   "source": [
    "cursor = mflix.movies.find().limit(3)\n",
    "pd.DataFrame(list(cursor))"
   ]
  },
  {
   "cell_type": "markdown",
   "metadata": {},
   "source": [
    "# CRUD (with exercises)\n",
    "Take a look at: https://docs.mongodb.com/manual/reference/operator/query/"
   ]
  },
  {
   "cell_type": "code",
   "execution_count": null,
   "metadata": {},
   "outputs": [],
   "source": [
    "# this is a helper function that improves our query calls\n",
    "\n",
    "def execute_query_return_df(query={}, projection=None, limit=10, collection=mflix.movies):\n",
    "    if projection:\n",
    "        cursor = collection.find(query, projection).limit(limit)\n",
    "    else:\n",
    "        cursor = collection.find(query).limit(limit)\n",
    "    return pd.DataFrame(list(cursor))"
   ]
  },
  {
   "cell_type": "markdown",
   "metadata": {},
   "source": [
    "## Read only the fields \"title\" and \"cast\", suppress \"_id\" (limit 10)"
   ]
  },
  {
   "cell_type": "code",
   "execution_count": null,
   "metadata": {},
   "outputs": [],
   "source": [
    "query = {}\n",
    "projection = {\"title\":1, \"cast\":1, \"_id\":0}\n",
    "limit = 10\n",
    "\n",
    "execute_query_return_df(query, projection, limit)"
   ]
  },
  {
   "cell_type": "markdown",
   "metadata": {},
   "source": [
    "## Comparison Query Operators\n",
    "\n",
    "- \\$gt: values greater than specified value\n",
    "- \\$gte: values greater than or equal specified value\n",
    "- \\$lt: values less than specified value\n",
    "- \\$lte: values less than or equal specified value\n",
    "- \\$ne: values that are not equal to the specified value\n",
    "- \\$in: values that match any specified value in a provided lists\n",
    "- \\$nin: values that are not any specified value in a provided lists\n",
    "\n",
    "### Find all movies which were produced after 2014 (limit 10)"
   ]
  },
  {
   "cell_type": "code",
   "execution_count": null,
   "metadata": {},
   "outputs": [],
   "source": [
    "query = {\"year\" : {\"$gt\" : 2014}}\n",
    "\n",
    "projection = { \"cast\":1, \"title\":1, \"year\":1, \"_id\":0}\n",
    "\n",
    "execute_query_return_df(query)"
   ]
  },
  {
   "cell_type": "markdown",
   "metadata": {},
   "source": [
    "### Find all movies which were produced in any year except 2014 (limit 10)"
   ]
  },
  {
   "cell_type": "code",
   "execution_count": null,
   "metadata": {},
   "outputs": [],
   "source": [
    "query = {\"year\" : {\"$ne\" : 2014}}\n",
    "\n",
    "projection = { \"cast\":1, \"title\":1, \"year\":1, \"_id\":0}\n",
    "\n",
    "execute_query_return_df(query, projection)"
   ]
  },
  {
   "cell_type": "markdown",
   "metadata": {},
   "source": [
    "### Find all movies which were produced in 2010, 2012, or 2014\n",
    "Rely on the \"in\" operator."
   ]
  },
  {
   "cell_type": "code",
   "execution_count": null,
   "metadata": {},
   "outputs": [],
   "source": [
    "query = {\"year\" : {\"$in\" : [2010, 2012, 2014]}}\n",
    "\n",
    "projection = { \"cast\":1, \"title\":1, \"year\":1, \"_id\":0}\n",
    "\n",
    "execute_query_return_df(query, projection)"
   ]
  },
  {
   "cell_type": "markdown",
   "metadata": {},
   "source": [
    "## Logical Query Operators\n",
    "- \\$and: joins query clauses with a logical AND (returns all documents that match all clauses)\n",
    "- \\$not: inverts the effect of a query (returns all documents that do not match the query expression)\n",
    "- \\$or: joins query clauses with a logical OR (returns all documents that match one of the clauses)\n",
    "- \\\\$nor: combines \\\\$or and \\\\$not"
   ]
  },
  {
   "cell_type": "markdown",
   "metadata": {},
   "source": [
    "### Find all movies that were produced after 2000 (included) and before 2005 (included) - limit 10\n",
    "#### Explicit AND"
   ]
  },
  {
   "cell_type": "code",
   "execution_count": null,
   "metadata": {},
   "outputs": [],
   "source": [
    "gte_2000 = { \"year\" : {\"$gte\" : 2000} }\n",
    "lte_2015 = { \"year\" : {\"$lte\" : 2005} }\n",
    "query = {\"$and\" : [gte_2000, lte_2015]}\n",
    "\n",
    "projection = { \"cast\":1, \"title\":1, \"year\":1, \"_id\":0}\n",
    "\n",
    "execute_query_return_df(query, projection)"
   ]
  },
  {
   "cell_type": "markdown",
   "metadata": {},
   "source": [
    "#### Implicit AND"
   ]
  },
  {
   "cell_type": "code",
   "execution_count": null,
   "metadata": {},
   "outputs": [],
   "source": []
  },
  {
   "cell_type": "code",
   "execution_count": null,
   "metadata": {},
   "outputs": [],
   "source": [
    "query = { \"year\" : { \"$gte\" : 2000, \"$lte\" : 2005 } }\n",
    "\n",
    "\n",
    "execute_query_return_df(query, projection)"
   ]
  },
  {
   "cell_type": "markdown",
   "metadata": {},
   "source": [
    "### Find all movies that were produced after 2000 but not in 2005 - limit 10"
   ]
  },
  {
   "cell_type": "code",
   "execution_count": null,
   "metadata": {},
   "outputs": [],
   "source": [
    "gt_2000 =  { \"year\" : {\"$gte\" : 2000} }\n",
    "not_2005 = { \"year\" : {\"$not\" : {\"$eq\" : 2005} } }\n",
    "query = {\"$and\": [gt_2000, not_2005]}\n",
    "\n",
    "projection = { \"cast\":1, \"title\":1, \"year\":1, \"_id\":0}\n",
    "\n",
    "execute_query_return_df(query, projection)"
   ]
  },
  {
   "cell_type": "markdown",
   "metadata": {},
   "source": [
    "## Element query operators\n",
    "- \\$exists: matches documents that have the specified field in the JSON \n",
    "- \\$type: matches documents in which the specified field has a specific type"
   ]
  },
  {
   "cell_type": "markdown",
   "metadata": {},
   "source": [
    "### Find all documents for which the field runtime exists / does not exist"
   ]
  },
  {
   "cell_type": "code",
   "execution_count": null,
   "metadata": {},
   "outputs": [],
   "source": [
    "query = {\"runtime\" : {\"$exists\" : True}}\n",
    "\n",
    "projection = { \"cast\":1, \"title\":1, \"year\":1, \"runtime\":1, \"_id\":0}\n",
    "\n",
    "execute_query_return_df(query, projection)"
   ]
  },
  {
   "cell_type": "code",
   "execution_count": null,
   "metadata": {},
   "outputs": [],
   "source": [
    "query = {\"runtime\" : {\"$exists\" : False}}\n",
    "\n",
    "projection = { \"cast\":1, \"title\":1, \"year\":1, \"runtime\":1, \"_id\":0}\n",
    "\n",
    "execute_query_return_df(query, projection)"
   ]
  },
  {
   "cell_type": "markdown",
   "metadata": {},
   "source": [
    "### Find all documents for which the field viewerRating has the type \"double\" (=1)"
   ]
  },
  {
   "cell_type": "code",
   "execution_count": null,
   "metadata": {},
   "outputs": [],
   "source": [
    "query = {\"viewerRating\" : {\"$type\" : 1}}\n",
    "\n",
    "projection = { \"cast\":1, \"title\":1, \"year\":1, \"viewerRating\":1, \"_id\":0}\n",
    "\n",
    "execute_query_return_df(query, projection)"
   ]
  },
  {
   "cell_type": "markdown",
   "metadata": {},
   "source": [
    "<img src=\"exercise.png\">\n",
    "\n",
    "# Exercise 4.2 <img src=\"mongodb.png\" width=120 align=\"right\">\n"
   ]
  },
  {
   "cell_type": "code",
   "execution_count": null,
   "metadata": {},
   "outputs": [],
   "source": [
    "# to be deleted before push!\n",
    "connection_string_atlas = \"xxx\"\n",
    "\n",
    "client_atlas = MongoClient(connection_string_atlas)"
   ]
  },
  {
   "cell_type": "code",
   "execution_count": null,
   "metadata": {},
   "outputs": [],
   "source": [
    "mw243 = Database(client_hwglu, 'mw243_654321')  # connect to the mw243 database"
   ]
  },
  {
   "cell_type": "markdown",
   "metadata": {},
   "source": [
    "### Alternative"
   ]
  },
  {
   "cell_type": "code",
   "execution_count": null,
   "metadata": {},
   "outputs": [],
   "source": [
    "# to be deleted before push!\n",
    "host = \"XXX\"\n",
    "user = \"XXX\"\n",
    "password = \"XXX\"\n",
    "connection_string_hwglu = \"XXX\"\n",
    "\n",
    "client_hwglu = MongoClient(connection_string_hwglu)\n",
    "mw243 = Database(client_hwglu, user)  # connect to the mw243 user database"
   ]
  },
  {
   "cell_type": "code",
   "execution_count": null,
   "metadata": {},
   "outputs": [],
   "source": [
    "query = {}\n",
    "\n",
    "projection = {}\n",
    "\n",
    "execute_query_return_df(query, projection, collection=mw243.restaurants)"
   ]
  },
  {
   "cell_type": "markdown",
   "metadata": {},
   "source": [
    "## Task 1\n",
    "Write a MongoDB query to display all the documents in the collection restaurants."
   ]
  },
  {
   "cell_type": "code",
   "execution_count": null,
   "metadata": {},
   "outputs": [],
   "source": [
    "query = {}\n",
    "\n",
    "projection = {}\n",
    "\n",
    "execute_query_return_df(query, projection, limit=10000, collection=mw243.restaurants)"
   ]
  },
  {
   "cell_type": "markdown",
   "metadata": {},
   "source": [
    "## Task 2\n",
    "Write a MongoDB query to display the fields restaurant_id, name, borough and cuisine for all the documents in the collection restaurants."
   ]
  },
  {
   "cell_type": "code",
   "execution_count": null,
   "metadata": {},
   "outputs": [],
   "source": [
    "query = {}\n",
    "\n",
    "projection = {\"restaurant_id\":1, \"name\":1, \"borough\":1, \"cuisine\":1}\n",
    "\n",
    "execute_query_return_df(query, projection, limit=10, collection=mw243.restaurants)"
   ]
  },
  {
   "cell_type": "markdown",
   "metadata": {},
   "source": [
    "## Task 3\n",
    "Write a MongoDB query to display the fields restaurant_id, name, borough and cuisine, but exclude the field \\_id for all the documents in the collection restaurants."
   ]
  },
  {
   "cell_type": "code",
   "execution_count": null,
   "metadata": {},
   "outputs": [],
   "source": [
    "query = {}\n",
    "\n",
    "projection = {\"_id\":0, \"restaurant_id\":1, \"name\":1, \"borough\":1, \"cuisine\":1}\n",
    "# alternative\n",
    "projection = {\"_id\":False, \"restaurant_id\":True, \"name\":True, \"borough\":True, \"cuisine\":True}\n",
    "\n",
    "execute_query_return_df(query, projection, limit=10, collection=mw243.restaurants)"
   ]
  },
  {
   "cell_type": "markdown",
   "metadata": {},
   "source": [
    "## Task 4\n",
    "Write a MongoDB query to display the fields restaurant_id, name, borough and zip code, but exclude the field \\_id for all the documents in the collection restaurants."
   ]
  },
  {
   "cell_type": "code",
   "execution_count": null,
   "metadata": {},
   "outputs": [],
   "source": [
    "query = {}\n",
    "\n",
    "projection = {\"_id\":False, \"restaurant_id\":True, \"name\":True, \"borough\":True, \"address.zipcode\":True}\n",
    "\n",
    "execute_query_return_df(query, projection, limit=10, collection=mw243.restaurants)"
   ]
  },
  {
   "cell_type": "markdown",
   "metadata": {},
   "source": [
    "## Task 5\n",
    "Write a MongoDB query to display all the restaurants which are in the borough Bronx."
   ]
  },
  {
   "cell_type": "code",
   "execution_count": null,
   "metadata": {},
   "outputs": [],
   "source": [
    "query = { \"borough\":\"Bronx\"}\n",
    "\n",
    "projection = {}\n",
    "\n",
    "execute_query_return_df(query, projection, limit=10, collection=mw243.restaurants)"
   ]
  },
  {
   "cell_type": "markdown",
   "metadata": {},
   "source": [
    "## Task 6\n",
    "Write a MongoDB query to display the first 5 restaurants which are in the borough Bronx."
   ]
  },
  {
   "cell_type": "code",
   "execution_count": null,
   "metadata": {},
   "outputs": [],
   "source": [
    "query = { \"borough\":\"Bronx\"}\n",
    "\n",
    "projection = {}\n",
    "\n",
    "execute_query_return_df(query, projection, limit=5, collection=mw243.restaurants)"
   ]
  },
  {
   "cell_type": "markdown",
   "metadata": {},
   "source": [
    "## Task 7\n",
    "Write a MongoDB query to display the next 5 restaurants after skipping first 5 which are in the borough Bronx."
   ]
  },
  {
   "cell_type": "code",
   "execution_count": null,
   "metadata": {},
   "outputs": [],
   "source": [
    "# this is a helper function that improves our query calls\n",
    "\n",
    "def execute_query_return_df(query={}, projection=None, limit=10, skip=0, collection=mflix.movies):\n",
    "    if projection:\n",
    "        cursor = collection.find(query, projection).skip(skip).limit(limit)\n",
    "    else:\n",
    "        cursor = collection.find(query).skip(skip).limit(limit)\n",
    "    return pd.DataFrame(list(cursor))"
   ]
  },
  {
   "cell_type": "code",
   "execution_count": null,
   "metadata": {},
   "outputs": [],
   "source": [
    "query = { \"borough\":\"Bronx\"}\n",
    "execute_query_return_df(query, skip=5, collection=mw243.restaurants)"
   ]
  },
  {
   "cell_type": "code",
   "execution_count": null,
   "metadata": {},
   "outputs": [],
   "source": [
    "query = { \"borough\":\"Bronx\"}\n",
    "\n",
    "projection = {}\n",
    "\n",
    "#execute_query_return_df(query, projection, limit=5, collection=mw243.restaurants)\n",
    "cursor = mw243.restaurants.find(query).skip(5).limit(10)\n",
    "#cursor = mw243.restaurants.find(query).limit(10)\n",
    "\n",
    "pd.DataFrame(list(cursor))"
   ]
  },
  {
   "cell_type": "markdown",
   "metadata": {},
   "source": [
    "### Task 8\n",
    "Write a MongoDB query to find the restaurants who achieved a score more than 90."
   ]
  },
  {
   "cell_type": "code",
   "execution_count": null,
   "metadata": {},
   "outputs": [],
   "source": [
    "query = { \"grades.score\": { \"$gt\" : 90 }}\n",
    "\n",
    "execute_query_return_df(query, collection=mw243.restaurants)\n",
    "# array check is an OR in this case"
   ]
  },
  {
   "cell_type": "markdown",
   "metadata": {},
   "source": [
    "### Task 9\n",
    "Write a MongoDB query to find the restaurants that achieved a score, more than 80 but less than 100."
   ]
  },
  {
   "cell_type": "markdown",
   "metadata": {},
   "source": [
    "#### Explicit AND"
   ]
  },
  {
   "cell_type": "code",
   "execution_count": null,
   "metadata": {},
   "outputs": [],
   "source": [
    "query = { \"$and\" : [\n",
    "            {\"grades.score\" : { \"$gt\" : 80 } },\n",
    "            {\"grades.score\" : { \"$lt\" : 100} }\n",
    "        ]\n",
    "}\n",
    "\n",
    "execute_query_return_df(query, collection=mw243.restaurants)\n",
    "# array check is an OR in this case"
   ]
  },
  {
   "cell_type": "markdown",
   "metadata": {},
   "source": [
    "#### Implicit AND"
   ]
  },
  {
   "cell_type": "code",
   "execution_count": null,
   "metadata": {},
   "outputs": [],
   "source": [
    "query = {\"grades.score\" : { \"$gt\" : 80 , \"$lt\" : 100} }\n",
    "        \n",
    "execute_query_return_df(query, collection=mw243.restaurants)\n",
    "# array check is an OR in this case"
   ]
  },
  {
   "cell_type": "markdown",
   "metadata": {},
   "source": [
    "### Task 10\n",
    "Write a MongoDB query to find the restaurants which locate in latitude value less than -95.754168."
   ]
  },
  {
   "cell_type": "code",
   "execution_count": null,
   "metadata": {},
   "outputs": [],
   "source": [
    "query = { \"address.coord.0\" : { \"$lt\" : -95.754168 } }\n",
    "        \n",
    "execute_query_return_df(query, collection=mw243.restaurants)\n",
    "\n"
   ]
  },
  {
   "cell_type": "markdown",
   "metadata": {},
   "source": [
    "### Task 11\n",
    "Write a MongoDB query to find the restaurants that do not prepare any cuisine of 'American' and their grade score more than 70 and latitude less than -65.754168."
   ]
  },
  {
   "cell_type": "code",
   "execution_count": null,
   "metadata": {},
   "outputs": [],
   "source": [
    "query = { \n",
    "    \"$and\" : [\n",
    "        {\"cuisine\" : { \"$ne\": \"American \"} },\n",
    "        {\"grades.score\" : { \"$gt\" : 70 } },\n",
    "        {\"address.coord.0\" : { \"$lt\" : -65.754168 } }\n",
    "        ]\n",
    "}\n",
    "        \n",
    "execute_query_return_df(query, collection=mw243.restaurants)\n",
    "\n"
   ]
  },
  {
   "cell_type": "markdown",
   "metadata": {},
   "source": [
    "<img src=\"exercise.png\">\n",
    "\n",
    "# Exercise 4.3 <img src=\"mongodb.png\" width=120 align=\"right\">\n"
   ]
  },
  {
   "cell_type": "markdown",
   "metadata": {},
   "source": [
    "## Task 1: all documents"
   ]
  },
  {
   "cell_type": "code",
   "execution_count": null,
   "metadata": {},
   "outputs": [],
   "source": [
    "query = { }\n",
    "        \n",
    "execute_query_return_df(query, collection=mw243.inventory)"
   ]
  },
  {
   "cell_type": "markdown",
   "metadata": {},
   "source": [
    "## Task 2: all documents that exactly match an array (including its order)"
   ]
  },
  {
   "cell_type": "code",
   "execution_count": null,
   "metadata": {},
   "outputs": [],
   "source": [
    "query = { \"tags\" : [\"red\", \"blank\"] }\n",
    "        \n",
    "execute_query_return_df(query, collection=mw243.inventory)"
   ]
  },
  {
   "cell_type": "markdown",
   "metadata": {},
   "source": [
    "## Task 3: all documents that match an array (not order sensitive and further elements allowed)"
   ]
  },
  {
   "cell_type": "code",
   "execution_count": null,
   "metadata": {},
   "outputs": [],
   "source": [
    "query = { \"tags\" : { \"$all\" : [\"red\", \"blank\"] } }\n",
    "        \n",
    "execute_query_return_df(query, collection=mw243.inventory)"
   ]
  },
  {
   "cell_type": "code",
   "execution_count": null,
   "metadata": {},
   "outputs": [],
   "source": [
    "query = { \"tags\" : { \"$in\" : [\"red\", \"blank\"] } }\n",
    "        \n",
    "execute_query_return_df(query, collection=mw243.inventory)"
   ]
  },
  {
   "cell_type": "markdown",
   "metadata": {},
   "source": [
    "<img src=\"exercise.png\">\n",
    "\n",
    "# Remaining Tasks of Exercise 4.2 <img src=\"mongodb.png\" width=120 align=\"right\">\n"
   ]
  },
  {
   "cell_type": "markdown",
   "metadata": {},
   "source": [
    "## Task 9: Write a MongoDB query to find the restaurants that achieved a score, more than 80 but less than 100."
   ]
  },
  {
   "cell_type": "code",
   "execution_count": null,
   "metadata": {},
   "outputs": [],
   "source": [
    "query = { \"grades\" : { \"$elemMatch\" : {\"score\" : {\"$gt\" : 80, \"$lt\" : 100}} }\n",
    "        }\n",
    "#execute_query_return_df(query, collection=mw243.restaurants)\n",
    "pprint(list(mw243.restaurants.find(query)))"
   ]
  },
  {
   "cell_type": "code",
   "execution_count": null,
   "metadata": {},
   "outputs": [],
   "source": [
    "query = { \"grades.score\" : {\"$gt\" : 80, \"$lt\" : 100}} \n",
    "        \n",
    "#execute_query_return_df(query, collection=mw243.restaurants)\n",
    "pprint(list(mw243.restaurants.find(query)))"
   ]
  },
  {
   "cell_type": "markdown",
   "metadata": {},
   "source": [
    "<img src=\"exercise.png\">\n",
    "\n",
    "# Exercise 4.4 <img src=\"mongodb.png\" width=120 align=\"right\">\n"
   ]
  },
  {
   "cell_type": "code",
   "execution_count": null,
   "metadata": {},
   "outputs": [],
   "source": [
    "# to be deleted before push!\n",
    "connection_string = \"XXX\"\n",
    "\n",
    "client = MongoClient(connection_string)\n",
    "\n",
    "weather_db = Database(client, \"100YWeatherSmall\")\n",
    "citibike_db = Database(client, \"citibike\")\n",
    "video_db = Database(client, \"video\")"
   ]
  },
  {
   "cell_type": "code",
   "execution_count": null,
   "metadata": {},
   "outputs": [],
   "source": [
    "weather_db.list_collection_names()"
   ]
  },
  {
   "cell_type": "code",
   "execution_count": null,
   "metadata": {},
   "outputs": [],
   "source": [
    "citibike_db.list_collection_names()"
   ]
  },
  {
   "cell_type": "code",
   "execution_count": null,
   "metadata": {},
   "outputs": [],
   "source": [
    "video_db.list_collection_names()"
   ]
  },
  {
   "cell_type": "code",
   "execution_count": null,
   "metadata": {},
   "outputs": [],
   "source": [
    "# pymongo: distinct values --> db.collection.find().distinct('item')"
   ]
  },
  {
   "cell_type": "markdown",
   "metadata": {},
   "source": [
    "### Task 1: Which are the distinct usertypes in the collection citybike.trips?\n"
   ]
  },
  {
   "cell_type": "code",
   "execution_count": null,
   "metadata": {},
   "outputs": [],
   "source": [
    "citibike_db.trips.distinct(\"usertype\")"
   ]
  },
  {
   "cell_type": "markdown",
   "metadata": {},
   "source": [
    "### Task 2: Inspect the schema of the data 100YWeatherSmall.data collection - wind field"
   ]
  },
  {
   "cell_type": "code",
   "execution_count": null,
   "metadata": {},
   "outputs": [],
   "source": [
    "pprint(list(weather_db.data.find({}).limit(3)))"
   ]
  },
  {
   "cell_type": "markdown",
   "metadata": {},
   "source": [
    "### Task 3: How many documents have the key tripduration set to 0? Ignore documents that do not have the key set!"
   ]
  },
  {
   "cell_type": "code",
   "execution_count": null,
   "metadata": {},
   "outputs": [],
   "source": [
    "query = { \"$and\": [\n",
    "        {\"tripduration\" : { \"$exists\" : 1} },\n",
    "        {\"tripduration\" : None }\n",
    "    ]\n",
    "    }\n",
    "#execute_query_return_df(query, collection=citibike_db.trips)\n",
    "\n",
    "pprint(list(citibike_db.trips.find(query)))"
   ]
  },
  {
   "cell_type": "markdown",
   "metadata": {},
   "source": [
    "### Task 4: Which query is correct?\n",
    "The following two queries yield the format which is asked for."
   ]
  },
  {
   "cell_type": "code",
   "execution_count": null,
   "metadata": {},
   "outputs": [],
   "source": [
    "pprint(list(video_db.movies.find({\"year\": 1964}, {\"title\":1,\"_id\":0}).limit(10)))"
   ]
  },
  {
   "cell_type": "markdown",
   "metadata": {},
   "source": [
    "### Task 5: How many movies have these criteria?\n",
    "- The cast includes either of the following actors: \"Jack Nicholson\", \"John Huston\". \n",
    " - Remember the $in operator!\n",
    "- The viewerRating is greater than 7. \n",
    "- The mpaaRating is \"R\". \n"
   ]
  },
  {
   "cell_type": "code",
   "execution_count": null,
   "metadata": {},
   "outputs": [],
   "source": [
    "query = {\n",
    "    \"$and\" : [\n",
    "        { \"mpaaRating\" : \"R\" },\n",
    "        { \"viewerRating\" : {\"$gt\" : 7} },\n",
    "        { \"cast\" : { \"$in\" : [\"Jack Nicholson\", \"John Huston\"] } }\n",
    "    ]\n",
    "}\n",
    "\n",
    "#execute_query_return_df(query, collection=video_db.movies, limit=10)\n",
    "len(list(video_db.movies.find(query)))"
   ]
  }
 ],
 "metadata": {
  "kernelspec": {
   "display_name": "Python 3",
   "language": "python",
   "name": "python3"
  },
  "language_info": {
   "codemirror_mode": {
    "name": "ipython",
    "version": 3
   },
   "file_extension": ".py",
   "mimetype": "text/x-python",
   "name": "python",
   "nbconvert_exporter": "python",
   "pygments_lexer": "ipython3",
   "version": "3.6.6"
  }
 },
 "nbformat": 4,
 "nbformat_minor": 2
}
