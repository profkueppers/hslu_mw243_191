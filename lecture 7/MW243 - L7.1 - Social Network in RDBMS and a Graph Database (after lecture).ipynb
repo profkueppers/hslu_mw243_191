{
 "cells": [
  {
   "cell_type": "markdown",
   "metadata": {},
   "source": [
    "<br>\n",
    "<font size=18>Lecture 7 - Graph Databases</font>\n",
    "   \n",
    "    \n",
    "# Load required modules"
   ]
  },
  {
   "cell_type": "code",
   "execution_count": null,
   "metadata": {},
   "outputs": [],
   "source": [
    "import sys\n",
    "#!{sys.executable} -m pip install names\n",
    "#!{sys.executable} -m pip install neo4j\n",
    "#!{sys.executable} -m pip install py2neo"
   ]
  },
  {
   "cell_type": "code",
   "execution_count": null,
   "metadata": {},
   "outputs": [],
   "source": [
    "import psycopg2  # handles database connection to postgres db\n",
    "import pandas.io.sql as sqlio  # we'll use this for improved query presentation\n",
    "import names\n",
    "import numpy as np\n",
    "import time\n",
    "import neo4j\n",
    "import py2neo"
   ]
  },
  {
   "cell_type": "markdown",
   "metadata": {},
   "source": [
    "# Connect to the relational database"
   ]
  },
  {
   "cell_type": "code",
   "execution_count": null,
   "metadata": {},
   "outputs": [],
   "source": [
    "# to be deleted before push!\n",
    "# GET THE CONNECTION OBJECT (SEE LECTURE 1)\n",
    "conn = psycopg2.connect(\"XXX\")\n",
    "conn"
   ]
  },
  {
   "cell_type": "markdown",
   "metadata": {},
   "source": [
    "# Create new tables 'person' and 'friendship'"
   ]
  },
  {
   "cell_type": "code",
   "execution_count": null,
   "metadata": {},
   "outputs": [],
   "source": [
    "sql = \"\"\"CREATE TABLE person (\n",
    "    user_id integer primary key,\n",
    "    name varchar(50)\n",
    ")\n",
    "\"\"\"\n",
    "\n",
    "cur = conn.cursor()\n",
    "try:\n",
    "    cur.execute(sql)\n",
    "except Exception as e:\n",
    "    print(\"Error creating the table: {}\".format(e))\n",
    "\n",
    "conn.commit()"
   ]
  },
  {
   "cell_type": "code",
   "execution_count": null,
   "metadata": {},
   "outputs": [],
   "source": [
    "sql = \"\"\"\n",
    "CREATE TABLE friendship (\n",
    "    user_id1 integer references person(user_id),\n",
    "    user_id2 integer references person(user_id),\n",
    "    primary key (user_id1, user_id2)\n",
    ")\n",
    "\"\"\"\n",
    "\n",
    "cur = conn.cursor()\n",
    "try:\n",
    "    cur.execute(sql)\n",
    "except Exception as e:\n",
    "    print(\"Error creating the table: {}\".format(e))\n",
    "\n",
    "conn.commit()"
   ]
  },
  {
   "cell_type": "markdown",
   "metadata": {},
   "source": [
    "### Delete table contents (for later use)"
   ]
  },
  {
   "cell_type": "code",
   "execution_count": null,
   "metadata": {},
   "outputs": [],
   "source": [
    "sql = \"DELETE FROM friendship\"\n",
    "\n",
    "cur = conn.cursor()\n",
    "try:\n",
    "    pass\n",
    "    cur.execute(sql)\n",
    "except Exception as e:\n",
    "    print(\"Error deleting table: {}\".format(e))\n",
    "\n",
    "conn.commit()\n",
    "\n",
    "sql = \"DELETE FROM person\"\n",
    "\n",
    "cur = conn.cursor()\n",
    "try:\n",
    "    pass\n",
    "    cur.execute(sql)\n",
    "except Exception as e:\n",
    "    print(\"Error deleting table: {}\".format(e))\n",
    "\n",
    "conn.commit()"
   ]
  },
  {
   "cell_type": "markdown",
   "metadata": {},
   "source": [
    "# Insert persons"
   ]
  },
  {
   "cell_type": "code",
   "execution_count": null,
   "metadata": {},
   "outputs": [],
   "source": [
    "n = 20  # number of persons in the person database\n",
    "no_of_friends = 2  #  number of friendship relationships to be generated per person"
   ]
  },
  {
   "cell_type": "code",
   "execution_count": null,
   "metadata": {},
   "outputs": [],
   "source": [
    "# we can get random names with this method\n",
    "names.get_full_name()"
   ]
  },
  {
   "cell_type": "code",
   "execution_count": null,
   "metadata": {},
   "outputs": [],
   "source": [
    "sql = \"INSERT INTO person VALUES \"\n",
    "\n",
    "\n",
    "for i in range(n):\n",
    "    sql += \"({}, '{}')\".format(i, names.get_full_name())\n",
    "    if i < n - 1:\n",
    "        sql += \",\\n\"\n",
    "\n",
    "cur = conn.cursor()\n",
    "try:\n",
    "    pass\n",
    "    cur.execute(sql)\n",
    "except Exception as e:\n",
    "    print(\"Error inserting into table: {}\".format(e))\n",
    "\n",
    "conn.commit()"
   ]
  },
  {
   "cell_type": "code",
   "execution_count": null,
   "metadata": {},
   "outputs": [],
   "source": [
    "# Select all elements from table kunde\n",
    "sql = \"\"\"\n",
    "SELECT * FROM person LIMIT 10\n",
    "\"\"\"\n",
    "\n",
    "dat = sqlio.read_sql_query(sql, conn)\n",
    "dat"
   ]
  },
  {
   "cell_type": "markdown",
   "metadata": {},
   "source": [
    "# Insert friendship relationships"
   ]
  },
  {
   "cell_type": "code",
   "execution_count": null,
   "metadata": {},
   "outputs": [],
   "source": [
    "sql = \"INSERT INTO friendship VALUES \"\n",
    "\n",
    "for i in range(n):\n",
    "    friends = np.random.choice(range(n), size=no_of_friends, replace=False)\n",
    "    friends = np.delete(friends, np.where(friends == i))  # delete friendships to the same person\n",
    "    \n",
    "    for j, friend_no in enumerate(friends):\n",
    "        sql += \"({}, {})\".format(i, friend_no)\n",
    "        if j < no_of_friends - 1 or i < n - 1:\n",
    "            sql += \",\\n\"\n",
    "            \n",
    "            \n",
    "cur = conn.cursor()\n",
    "try:\n",
    "    pass\n",
    "    cur.execute(sql)\n",
    "except Exception as e:\n",
    "    print(\"Error inserting into table: {}\".format(e))\n",
    "\n",
    "conn.commit()"
   ]
  },
  {
   "cell_type": "code",
   "execution_count": null,
   "metadata": {},
   "outputs": [],
   "source": [
    "# Select all elements from table kunde\n",
    "sql = \"\"\"\n",
    "SELECT * FROM friendship LIMIT 100\n",
    "\"\"\"\n",
    "\n",
    "dat = sqlio.read_sql_query(sql, conn)\n",
    "dat"
   ]
  },
  {
   "cell_type": "markdown",
   "metadata": {},
   "source": [
    "## Get all friends with degree 4 for person 0"
   ]
  },
  {
   "cell_type": "code",
   "execution_count": null,
   "metadata": {},
   "outputs": [],
   "source": [
    "user_from = 16  # starting user\n",
    "\n",
    "sql = \"\"\"select p1.name as from_person_name, f1.user_id1 as from_person, f1.user_id2 as intermediate_person_1, f2.user_id2 as intermediate_person_2, f3.user_id2 as intermediate_person, f4.user_id2 as final_person, p4.name as final_person_name\n",
    "from friendship f1 \n",
    "inner join friendship f2 on f1.user_id2 = f2.user_id1\n",
    "inner join friendship f3 on f2.user_id2 = f3.user_id1\n",
    "inner join friendship f4 on f3.user_id2 = f4.user_id1\n",
    "inner join person p1 on f1.user_id1 = p1.user_id\n",
    "inner join person p4 on f4.user_id2 = p4.user_id\n",
    "where f1.user_id1 = {0} and f2.user_id1 <> {0} and f3.user_id1 <> {0} and f4.user_id1 <> {0} and f4.user_id2 <> {0}\n",
    "and f3.user_id1 <> f2.user_id1 and f4.user_id1 <> f2.user_id1\n",
    "and f4.user_id1 <> f3.user_id1\n",
    "and (f2.user_id1={1} or f3.user_id1={1} or f4.user_id1={1} or f4.user_id2={1})\"\"\".format(user_from, 11)\n",
    "\n",
    "dat = sqlio.read_sql_query(sql, conn)\n",
    "dat"
   ]
  },
  {
   "cell_type": "code",
   "execution_count": null,
   "metadata": {},
   "outputs": [],
   "source": [
    "user_from = 16  # starting user\n",
    "\n",
    "sql = \"\"\"select p1.name as from_person_name, f1.user_id1 as from_person, \n",
    "f1.user_id2 as to_person, p2.name as final_person_name\n",
    "from friendship f1 \n",
    "inner join person p1 on f1.user_id1 = p1.user_id\n",
    "inner join person p2 on f1.user_id2 = p2.user_id\n",
    "where f1.user_id1={}\n",
    "\"\"\".format(user_from)\n",
    "\n",
    "dat = sqlio.read_sql_query(sql, conn)\n",
    "dat"
   ]
  },
  {
   "cell_type": "markdown",
   "metadata": {},
   "source": [
    "# Neo4j Graph Database"
   ]
  },
  {
   "cell_type": "code",
   "execution_count": null,
   "metadata": {},
   "outputs": [],
   "source": [
    "from py2neo import Database, Graph, Node, Relationship\n",
    "g = Graph(\"XXX\", auth=(\"XXX\", \"XXX\"))"
   ]
  },
  {
   "cell_type": "markdown",
   "metadata": {},
   "source": [
    "## Example Insertion of a Relationship"
   ]
  },
  {
   "cell_type": "code",
   "execution_count": null,
   "metadata": {},
   "outputs": [],
   "source": [
    "a = Node(\"Person\", name=\"Alice\", age=33)\n",
    "b = Node(\"Person\", name=\"Bob\", age=44)\n",
    "KNOWS = Relationship.type(\"KNOWS\")\n",
    "g.merge(KNOWS(a, b), \"Person\", \"name\")"
   ]
  },
  {
   "cell_type": "markdown",
   "metadata": {},
   "source": [
    "## Insertion of the Social Network"
   ]
  },
  {
   "cell_type": "code",
   "execution_count": null,
   "metadata": {},
   "outputs": [],
   "source": [
    "n = 20  # number of persons in the person database\n",
    "no_of_friends = 2  #  number of friendship relationships to be generated per person\n",
    "\n",
    "# insert persons\n",
    "persons = []\n",
    "for i in range(n):\n",
    "    new_person_node = Node(\"Person\", user_id=i, name=\"{}\".format(names.get_full_name()))\n",
    "    persons.append(new_person_node)\n",
    "    \n",
    "for i in range(n):\n",
    "    friends = np.random.choice(range(n), size=no_of_friends, replace=False)\n",
    "    friends = np.delete(friends, np.where(friends == i))\n",
    "    \n",
    "    for friend_index in friends:\n",
    "        KNOWS = Relationship.type(\"KNOWS\")\n",
    "        g.merge(KNOWS(persons[i], persons[friend_index]), \"Person\", \"user_id\")"
   ]
  },
  {
   "cell_type": "code",
   "execution_count": null,
   "metadata": {},
   "outputs": [],
   "source": [
    "persons"
   ]
  },
  {
   "cell_type": "markdown",
   "metadata": {},
   "source": [
    "## Example Query Using \"py2neo\""
   ]
  },
  {
   "cell_type": "code",
   "execution_count": null,
   "metadata": {},
   "outputs": [],
   "source": [
    "for rel in g.match((persons[1], ), r_type=\"KNOWS\"):\n",
    "    print(rel.end_node[\"name\"])"
   ]
  },
  {
   "cell_type": "markdown",
   "metadata": {},
   "source": [
    "## Queries Using the neo4j package and neo4j-native queries\n",
    "### Connect to the Cloud Database"
   ]
  },
  {
   "cell_type": "code",
   "execution_count": null,
   "metadata": {},
   "outputs": [],
   "source": [
    "from neo4j import GraphDatabase\n",
    "\n",
    "uri = \"XXX\"\n",
    "driver = GraphDatabase.driver(uri, auth=(\"XXX\", \"XXX\"))"
   ]
  },
  {
   "cell_type": "markdown",
   "metadata": {},
   "source": [
    "### Query all relations between two persons"
   ]
  },
  {
   "cell_type": "code",
   "execution_count": null,
   "metadata": {},
   "outputs": [],
   "source": [
    "from pprint import pprint\n",
    "with driver.session() as session:\n",
    "    result = session.run(\"MATCH (start:Person {name : 'Joan Phelps'})-[f:KNOWS*3]-(end:Person {name : 'Douglas Gokey'})\" +\n",
    "                         \"RETURN start,end,f\")\n",
    "    pprint(result.data())"
   ]
  },
  {
   "cell_type": "markdown",
   "metadata": {},
   "source": [
    "### Get the shortest path between two persons\n",
    "This is not easily implementable with standard SQL.\n",
    "<br>Please change the start and end persons' names to your data."
   ]
  },
  {
   "cell_type": "code",
   "execution_count": null,
   "metadata": {},
   "outputs": [],
   "source": [
    "with driver.session() as session:\n",
    "    result = session.run(\"MATCH (start:Person {name : 'Joan Phelps'}), (end:Person {name : 'Douglas Gokey'}), \" +\n",
    "                         \"p = shortestPath((start)-[:KNOWS*..15]-(end)) \" + \n",
    "                         \"RETURN p\")\n",
    "    print(result.data())"
   ]
  }
 ],
 "metadata": {
  "kernelspec": {
   "display_name": "Python 3",
   "language": "python",
   "name": "python3"
  },
  "language_info": {
   "codemirror_mode": {
    "name": "ipython",
    "version": 3
   },
   "file_extension": ".py",
   "mimetype": "text/x-python",
   "name": "python",
   "nbconvert_exporter": "python",
   "pygments_lexer": "ipython3",
   "version": "3.6.6"
  }
 },
 "nbformat": 4,
 "nbformat_minor": 2
}
