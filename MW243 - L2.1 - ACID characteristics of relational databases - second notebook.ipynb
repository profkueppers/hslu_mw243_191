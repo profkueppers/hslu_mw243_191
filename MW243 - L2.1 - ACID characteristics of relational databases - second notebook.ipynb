{
 "cells": [
  {
   "cell_type": "markdown",
   "metadata": {},
   "source": [
    "# Load required modules"
   ]
  },
  {
   "cell_type": "code",
   "execution_count": null,
   "metadata": {},
   "outputs": [],
   "source": [
    "import psycopg2  # handles database connection to postgres db\n",
    "import pandas.io.sql as sqlio  # we'll use this for improved query presentation"
   ]
  },
  {
   "cell_type": "markdown",
   "metadata": {},
   "source": [
    "# Connect to the relational database"
   ]
  },
  {
   "cell_type": "code",
   "execution_count": null,
   "metadata": {},
   "outputs": [],
   "source": [
    "# get from templates folder"
   ]
  },
  {
   "cell_type": "markdown",
   "metadata": {},
   "source": [
    "## Let us take a look at isolation from another notebook\n",
    "### First, check the table \"kunde\" while the other transaction is running."
   ]
  },
  {
   "cell_type": "code",
   "execution_count": null,
   "metadata": {},
   "outputs": [],
   "source": [
    "# here is the second transaction that is not aware of that what happens in the first one\n",
    "sql = \"SELECT * FROM kunde\"\n",
    "\n",
    "dat = sqlio.read_sql_query(sql, conn)\n",
    "dat # the new customer \"Jansen\" should not be visible while the other transaction is running"
   ]
  },
  {
   "cell_type": "markdown",
   "metadata": {},
   "source": [
    "### Second, manipulate the tables \"kunde\"  and \"auftrag\" while the other transaction is running - this leads to an inconsistency in the other transaction"
   ]
  },
  {
   "cell_type": "code",
   "execution_count": null,
   "metadata": {},
   "outputs": [],
   "source": [
    "from time import sleep  # we will use this to start \"waiting\"\n",
    "\n",
    "insert_into_customer = \"INSERT INTO kunde VALUES (4, 'Schulz')\"\n",
    "insert_into_orders = \"INSERT INTO auftrag VALUES (20, 4, 'Banane')\"  # NOTE: here, we use the order_id from the second insert\n",
    "\n",
    "try:\n",
    "    cur = conn.cursor()  # retrieving a database cursor starts the transaction\n",
    "    # the following two statements are executed in an all-or-none-proposition\n",
    "    cur.execute(insert_into_customer)\n",
    "    # we do not sleep here - so this transaction should be finishing first\n",
    "    cur.execute(insert_into_orders)\n",
    "    conn.commit()    \n",
    "except Exception as e:\n",
    "    print(\"Error inserting into table: {}\".format(e))\n",
    "    conn.rollback()  # in case the transaction cannot be commit, we want to roll back to the previous state (CONSISTENCY)\n",
    "\n",
    "\n",
    "# Select all elements from table auftrag and kunde (joined)\n",
    "sql = \"\"\"\n",
    "SELECT * FROM kunde LEFT JOIN auftrag ON auftrag.auftrag_kunde_id=kunde.kunde_id\n",
    "\"\"\"\n",
    "\n",
    "dat = sqlio.read_sql_query(sql, conn)\n",
    "dat # the new customer \"Jansen\" should not be added to the database"
   ]
  },
  {
   "cell_type": "markdown",
   "metadata": {},
   "source": [
    "### This cell is used to repeat the case"
   ]
  },
  {
   "cell_type": "code",
   "execution_count": null,
   "metadata": {},
   "outputs": [],
   "source": [
    "try:\n",
    "    cur = conn.cursor()\n",
    "    cur.execute(\"DELETE FROM auftrag WHERE auftrag_kunde_id=4\")\n",
    "    cur.execute(\"DELETE FROM kunde WHERE kunde_id=4\")    \n",
    "    conn.commit()    \n",
    "except Exception as e:\n",
    "    print(\"Error deleting from table: {}\".format(e))\n",
    "    conn.rollback()  # in case the transaction cannot be commit, we want to roll back to the previous state (CONSISTENCY)"
   ]
  }
 ],
 "metadata": {
  "kernelspec": {
   "display_name": "Python 3",
   "language": "python",
   "name": "python3"
  },
  "language_info": {
   "codemirror_mode": {
    "name": "ipython",
    "version": 3
   },
   "file_extension": ".py",
   "mimetype": "text/x-python",
   "name": "python",
   "nbconvert_exporter": "python",
   "pygments_lexer": "ipython3",
   "version": "3.6.6"
  }
 },
 "nbformat": 4,
 "nbformat_minor": 2
}
