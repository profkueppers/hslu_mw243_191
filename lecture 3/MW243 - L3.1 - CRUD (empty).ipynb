{
 "cells": [
  {
   "cell_type": "markdown",
   "metadata": {},
   "source": [
    "# Load required modules"
   ]
  },
  {
   "cell_type": "code",
   "execution_count": null,
   "metadata": {},
   "outputs": [],
   "source": [
    "# MongoDB\n",
    "from pymongo import MongoClient\n",
    "from pymongo.database import Database\n",
    "import pandas as pd\n",
    "\n",
    "# PostgreSQL\n",
    "import psycopg2  # handles database connection to postgres db\n",
    "import pandas.io.sql as sqlio  # we'll use this for improved query presentation"
   ]
  },
  {
   "cell_type": "markdown",
   "metadata": {},
   "source": [
    "# Connect to the MongoDB Atlas Cluster <img src=\"mongodb.png\" width=120 align=\"right\">"
   ]
  },
  {
   "cell_type": "code",
   "execution_count": null,
   "metadata": {},
   "outputs": [],
   "source": [
    "# get your connection string from atlas and set the password\n",
    "connection_string = \"\"\n",
    "\n",
    "client = MongoClient(connection_string)\n",
    "mw243 = Database(client, 'mw243')  # connect to the mw243 database"
   ]
  },
  {
   "cell_type": "markdown",
   "metadata": {},
   "source": [
    "# Connect to the relational database <img src=\"postgres.png\" width=40 align=\"right\">"
   ]
  },
  {
   "cell_type": "code",
   "execution_count": null,
   "metadata": {},
   "outputs": [],
   "source": [
    "# get this from the templates folder\n",
    "# username and password are provided in the lecture"
   ]
  },
  {
   "cell_type": "markdown",
   "metadata": {},
   "source": [
    "# Insert a JSON document to a new database mw243 (collection users)"
   ]
  },
  {
   "cell_type": "code",
   "execution_count": null,
   "metadata": {},
   "outputs": [],
   "source": [
    "# note: this is redundant - we already added \"sue\" via NoSQLBooster\n",
    "doc = {\n",
    "    'name' : 'sue',\n",
    "    'age' : 26,\n",
    "    'status' : 'A',\n",
    "}\n",
    "\n",
    "result = mw243.users.insert_one(doc) # insert the document into the collection users which is automaticall created\n",
    "result.inserted_id  # get the id of the new document to see if everything is fine "
   ]
  },
  {
   "cell_type": "markdown",
   "metadata": {},
   "source": [
    "<img src=\"exercise.png\">\n",
    "\n",
    "# Exercise 3.1a <img src=\"mongodb.png\" width=120 align=\"right\">\n",
    "Add three further users with the same schema, i.e. name, age, and status."
   ]
  },
  {
   "cell_type": "code",
   "execution_count": null,
   "metadata": {},
   "outputs": [],
   "source": [
    "# adapt the dictionary \"doc\"\n",
    "doc = {}\n",
    "\n",
    "\n",
    "result = mw243.users.insert_one(doc) \n",
    "result.inserted_id  # if you receive an ID, everything went fine"
   ]
  },
  {
   "cell_type": "code",
   "execution_count": null,
   "metadata": {},
   "outputs": [],
   "source": [
    "# adapt the two dictionaries within the list \"docs\"\n",
    "docs = [{}, {}]\n",
    "\n",
    "result = mw243.users.insert_many(docs) \n",
    "result.inserted_ids # if you receive two IDs, everything went fine"
   ]
  },
  {
   "cell_type": "markdown",
   "metadata": {},
   "source": [
    "## Check insertion of documents"
   ]
  },
  {
   "cell_type": "code",
   "execution_count": null,
   "metadata": {},
   "outputs": [],
   "source": [
    "cursor = mw243.users.find()\n",
    "\n",
    "df = pd.DataFrame(list(cursor))  # convert to a dataframe for better visualization\n",
    "df"
   ]
  },
  {
   "cell_type": "markdown",
   "metadata": {},
   "source": [
    "# Exercise 3.1b <img src=\"postgres.png\" width=40 align=\"right\">\n",
    "Create a table <code>users</code> in your schema <code>mw240_XXXXXX</code> in the postgres database!<br>\n",
    "Please note: we set the schema as default when connecting (see above), so you don't have to explicitly set the schema. Just make sure that the parameter <code>search_path</code> is set to <code>mw240_XXXXXX</code> (with XXXXXX = your matriculation number)."
   ]
  },
  {
   "cell_type": "markdown",
   "metadata": {},
   "source": [
    "## Table creation<img src=\"postgres.png\" width=40 align=\"right\">"
   ]
  },
  {
   "cell_type": "code",
   "execution_count": null,
   "metadata": {},
   "outputs": [],
   "source": [
    "sql = \"\"\"\n",
    "PUT YOUR SQL CODE HERE\n",
    "\"\"\"\n",
    "\n",
    "cur = conn.cursor()\n",
    "try:\n",
    "    cur.execute(sql)\n",
    "except Exception as e:\n",
    "    print(\"Error creating the table: {}\".format(e))\n",
    "\n",
    "conn.commit()"
   ]
  },
  {
   "cell_type": "markdown",
   "metadata": {},
   "source": [
    "# Insert<img src=\"postgres.png\" width=40 align=\"right\">"
   ]
  },
  {
   "cell_type": "code",
   "execution_count": null,
   "metadata": {},
   "outputs": [],
   "source": [
    "sql = \"\"\"\n",
    "PUT YOUR SQL CODE HERE\n",
    "\"\"\"\n",
    "\n",
    "cur = conn.cursor()\n",
    "try:\n",
    "    cur.execute(sql)\n",
    "except Exception as e:\n",
    "    print(\"Error inserting into table: {}\".format(e))\n",
    "\n",
    "conn.commit()"
   ]
  },
  {
   "cell_type": "markdown",
   "metadata": {},
   "source": [
    "## Check insert<img src=\"postgres.png\" width=40 align=\"right\">"
   ]
  },
  {
   "cell_type": "code",
   "execution_count": null,
   "metadata": {},
   "outputs": [],
   "source": [
    "# Select all elements from table users\n",
    "sql = \"\"\"\n",
    "SELECT * FROM users\n",
    "\"\"\"\n",
    "\n",
    "dat = sqlio.read_sql_query(sql, conn)\n",
    "dat"
   ]
  },
  {
   "cell_type": "markdown",
   "metadata": {},
   "source": [
    "# Exercise 3.1c <img src=\"mongodb_to_postgres.png\" width=200 align=\"right\">\n",
    "We now want to copy all documents from our MongoDB collection <code>mw243.users</code> to the PostgreSQL table <code>users</code>. Please note: we assume that all documents have the keys \"name\", \"age\", and \"status\" (and only these three key-value pairs!)."
   ]
  },
  {
   "cell_type": "markdown",
   "metadata": {},
   "source": [
    "## Loop through the pymongo cursor object and insert into the relational database<img src=\"mongodb_to_postgres.png\" width=120 align=\"right\">"
   ]
  },
  {
   "cell_type": "code",
   "execution_count": null,
   "metadata": {},
   "outputs": [],
   "source": [
    "# put your code here"
   ]
  },
  {
   "cell_type": "markdown",
   "metadata": {},
   "source": [
    "## Check insertion of all documents<img src=\"postgres.png\" width=40 align=\"right\">"
   ]
  },
  {
   "cell_type": "code",
   "execution_count": null,
   "metadata": {},
   "outputs": [],
   "source": [
    "# Select all elements from table users\n",
    "sql = \"\"\"\n",
    "SELECT * FROM users\n",
    "\"\"\"\n",
    "\n",
    "dat = sqlio.read_sql_query(sql, conn)\n",
    "dat"
   ]
  },
  {
   "cell_type": "markdown",
   "metadata": {},
   "source": [
    "# Exercise 3.1d <img src=\"postgres_to_mongodb.png\" width=200 align=\"right\">\n",
    "We now want to copy a single row our PostgreSQL table <code>users</code> to the MongoDB collection mw243.users<br>\n",
    "Preparation: insert the following users:\n",
    "- name <code>steve</code>, age <code>33</code>, status <code>D</code> \n",
    "- name <code>helen</code>, age <code>21</code>, status <code>D</code> "
   ]
  },
  {
   "cell_type": "markdown",
   "metadata": {},
   "source": [
    "## Insert users table<img src=\"postgres.png\" width=40 align=\"right\">"
   ]
  },
  {
   "cell_type": "code",
   "execution_count": null,
   "metadata": {},
   "outputs": [],
   "source": [
    "sql = \"\"\"\n",
    "PUT YOUR SQL CODE HERE\n",
    "\"\"\"\n",
    "\n",
    "cur = conn.cursor()\n",
    "try:\n",
    "    cur.execute(sql)\n",
    "except Exception as e:\n",
    "    print(\"Error inserting into table: {}\".format(e))\n",
    "\n",
    "conn.commit()"
   ]
  },
  {
   "cell_type": "markdown",
   "metadata": {},
   "source": [
    "## Check insertion of status 'D'-users in table users<img src=\"postgres.png\" width=40 align=\"right\">"
   ]
  },
  {
   "cell_type": "code",
   "execution_count": null,
   "metadata": {},
   "outputs": [],
   "source": [
    "# Select all elements from table users\n",
    "sql = \"\"\"\n",
    "SELECT * FROM users\n",
    "\"\"\"\n",
    "\n",
    "dat = sqlio.read_sql_query(sql, conn)\n",
    "dat"
   ]
  },
  {
   "cell_type": "markdown",
   "metadata": {},
   "source": [
    "## Programmatically transfer status 'D' rows from PostgreSQL to MongoDB<img src=\"postgres_to_mongodb.png\" width=120 align=\"right\">"
   ]
  },
  {
   "cell_type": "code",
   "execution_count": null,
   "metadata": {},
   "outputs": [],
   "source": [
    "# put your code here"
   ]
  },
  {
   "cell_type": "markdown",
   "metadata": {},
   "source": [
    "## Check insertion of documents in MongoDB<img src=\"mongodb.png\" width=120 align=\"right\">"
   ]
  },
  {
   "cell_type": "code",
   "execution_count": null,
   "metadata": {},
   "outputs": [],
   "source": [
    "cursor = mw243.users.find()\n",
    "\n",
    "df = pd.DataFrame(list(cursor))  # convert to a dataframe for better visualization\n",
    "df"
   ]
  },
  {
   "cell_type": "markdown",
   "metadata": {},
   "source": [
    "# Cleaning up / Resetting the Status\n",
    "## Use this to delete / reset the MongoDB collection"
   ]
  },
  {
   "cell_type": "code",
   "execution_count": null,
   "metadata": {},
   "outputs": [],
   "source": [
    "result = mw243.users.delete_many({})\n",
    "result.deleted_count"
   ]
  },
  {
   "cell_type": "markdown",
   "metadata": {},
   "source": [
    "## Use this to empty the PostgreSQL table"
   ]
  },
  {
   "cell_type": "code",
   "execution_count": null,
   "metadata": {},
   "outputs": [],
   "source": [
    "sql = \"\"\"\n",
    "DELETE FROM users\n",
    "\"\"\"\n",
    "\n",
    "cur = conn.cursor()\n",
    "try:\n",
    "    cur.execute(sql)\n",
    "except Exception as e:\n",
    "    print(\"Error deleting from table: {}\".format(e))\n",
    "\n",
    "conn.commit()"
   ]
  },
  {
   "cell_type": "markdown",
   "metadata": {},
   "source": [
    "## Use this to drop the PostgreSQL table"
   ]
  },
  {
   "cell_type": "code",
   "execution_count": null,
   "metadata": {},
   "outputs": [],
   "source": [
    "sql = \"\"\"\n",
    "DROP TABLE users\n",
    "\"\"\"\n",
    "\n",
    "cur = conn.cursor()\n",
    "try:\n",
    "    cur.execute(sql)\n",
    "except Exception as e:\n",
    "    print(\"Error dropping from table: {}\".format(e))\n",
    "\n",
    "conn.commit()"
   ]
  },
  {
   "cell_type": "markdown",
   "metadata": {},
   "source": [
    "# Exercise 3.2"
   ]
  },
  {
   "cell_type": "markdown",
   "metadata": {},
   "source": [
    "## Filtering documents with MongoDB<img src=\"mongodb.png\" width=120 align=\"right\">"
   ]
  },
  {
   "cell_type": "code",
   "execution_count": null,
   "metadata": {},
   "outputs": [],
   "source": [
    "# update the dictionary \"filt\" to filter the relevant documents only\n",
    "filt = {}\n",
    "\n",
    "cursor = mw243.users.find(filt)\n",
    "\n",
    "df = pd.DataFrame(list(cursor))  # convert to a dataframe for better visualization\n",
    "df"
   ]
  },
  {
   "cell_type": "markdown",
   "metadata": {},
   "source": [
    "## Filtering rows in SQL<img src=\"postgres.png\" width=40 align=\"right\">"
   ]
  },
  {
   "cell_type": "code",
   "execution_count": null,
   "metadata": {},
   "outputs": [],
   "source": [
    "sql = \"\"\"\n",
    "PUT YOUR SQL CODE HERE\n",
    "\"\"\"\n",
    "\n",
    "dat = sqlio.read_sql_query(sql, conn)\n",
    "dat"
   ]
  },
  {
   "cell_type": "markdown",
   "metadata": {},
   "source": [
    "# Exercise 3.3"
   ]
  },
  {
   "cell_type": "markdown",
   "metadata": {},
   "source": [
    "## Updating documents with MongoDB<img src=\"mongodb.png\" width=120 align=\"right\">"
   ]
  },
  {
   "cell_type": "code",
   "execution_count": null,
   "metadata": {},
   "outputs": [],
   "source": [
    "# update the dictionary filt to select only \"sue\"\n",
    "filt = {}\n",
    "\n",
    "# update the dictionary referenced by the key \"$set\" to updated sue's age\n",
    "update = {\"$set\" : {}}\n",
    "result = mw243.users.update_one(filt, update)\n",
    "\n",
    "result.modified_count  # if this is 1 then your query is correct"
   ]
  },
  {
   "cell_type": "markdown",
   "metadata": {},
   "source": [
    "# Exercise 3.4"
   ]
  },
  {
   "cell_type": "markdown",
   "metadata": {},
   "source": [
    "## Deleting documents with MongoDB<img src=\"mongodb.png\" width=120 align=\"right\">"
   ]
  },
  {
   "cell_type": "code",
   "execution_count": null,
   "metadata": {},
   "outputs": [],
   "source": [
    "filt = {\"age\": {\"$gt\":30}}\n",
    "result = mw243.users.delete_many(filt)\n",
    "\n",
    "result.deleted_count  # this should be 2"
   ]
  }
 ],
 "metadata": {
  "kernelspec": {
   "display_name": "Python 3",
   "language": "python",
   "name": "python3"
  },
  "language_info": {
   "codemirror_mode": {
    "name": "ipython",
    "version": 3
   },
   "file_extension": ".py",
   "mimetype": "text/x-python",
   "name": "python",
   "nbconvert_exporter": "python",
   "pygments_lexer": "ipython3",
   "version": "3.6.6"
  }
 },
 "nbformat": 4,
 "nbformat_minor": 2
}
