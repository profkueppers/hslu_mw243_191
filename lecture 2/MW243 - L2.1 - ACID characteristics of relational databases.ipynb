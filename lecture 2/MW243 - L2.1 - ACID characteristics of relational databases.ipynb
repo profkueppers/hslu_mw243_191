{
 "cells": [
  {
   "cell_type": "markdown",
   "metadata": {},
   "source": [
    "# Load required modules"
   ]
  },
  {
   "cell_type": "code",
   "execution_count": null,
   "metadata": {},
   "outputs": [],
   "source": [
    "import psycopg2  # handles database connection to postgres db\n",
    "import pandas.io.sql as sqlio  # we'll use this for improved query presentation"
   ]
  },
  {
   "cell_type": "markdown",
   "metadata": {},
   "source": [
    "# Connect to the relational database"
   ]
  },
  {
   "cell_type": "code",
   "execution_count": null,
   "metadata": {},
   "outputs": [],
   "source": [
    "# get from templates folder"
   ]
  },
  {
   "cell_type": "markdown",
   "metadata": {},
   "source": [
    "# Normalized storage (3.NF)\n",
    "The tables kunde and auftrag are connected with a foreign key and the database cares for integrity."
   ]
  },
  {
   "cell_type": "code",
   "execution_count": null,
   "metadata": {},
   "outputs": [],
   "source": [
    "# Select all elements from table auftrag\n",
    "sql = \"\"\"\n",
    "SELECT * FROM auftrag\n",
    "\"\"\"\n",
    "\n",
    "dat = sqlio.read_sql_query(sql, conn)\n",
    "dat"
   ]
  },
  {
   "cell_type": "code",
   "execution_count": null,
   "metadata": {},
   "outputs": [],
   "source": [
    "# Select all elements from table kunde\n",
    "sql = \"\"\"\n",
    "SELECT * FROM kunde\n",
    "\"\"\"\n",
    "\n",
    "dat = sqlio.read_sql_query(sql, conn)\n",
    "dat"
   ]
  },
  {
   "cell_type": "markdown",
   "metadata": {},
   "source": [
    "# Let us try to create an inconsistent state"
   ]
  },
  {
   "cell_type": "code",
   "execution_count": null,
   "metadata": {},
   "outputs": [],
   "source": [
    "sql = \"\"\"\n",
    "PUT YOUR SQL HERE\n",
    "\"\"\"\n",
    "\n",
    "try:\n",
    "    cur = conn.cursor()\n",
    "    cur.execute(sql)\n",
    "    conn.commit()\n",
    "except Exception as e:\n",
    "    print(\"Error deleting from table: {}\".format(e))\n",
    "    conn.commit()\n",
    "\n"
   ]
  },
  {
   "cell_type": "markdown",
   "metadata": {},
   "source": [
    "The database accounts for the consistency."
   ]
  },
  {
   "cell_type": "markdown",
   "metadata": {},
   "source": [
    "# A simple transaction\n",
    "Let us assume that our application's requirement is that a customer can only be added when also at least one order is inserted. Thus, we want to put these two INSERT-statements into a block of statements that are executed as if they were one (atomicity)."
   ]
  },
  {
   "cell_type": "code",
   "execution_count": null,
   "metadata": {},
   "outputs": [],
   "source": [
    "# we first need to disable auto-commit in order to be able to define our own transactions containing more than one SQL statement\n",
    "conn.autocommit = False  # this is default but we want to be sure"
   ]
  },
  {
   "cell_type": "code",
   "execution_count": null,
   "metadata": {},
   "outputs": [],
   "source": [
    "insert_into_customer = \"INSERT INTO kunde VALUES (2, 'Meier')\"\n",
    "insert_into_orders = \"INSERT INTO auftrag VALUES (10, 2, 'Apfel')\"\n",
    "\n",
    "\n",
    "try:\n",
    "    cur = conn.cursor()  # retrieving a database cursor starts the transaction\n",
    "    # the following two statements are executed in an all-or-none-proposition\n",
    "    \n",
    "    # DEFINE THE TWO STATEMENTS AS A LOGICAL UNIT HERE\n",
    "    \n",
    "    conn.commit()    \n",
    "except Exception as e:\n",
    "    print(\"Error inserting into table: {}\".format(e))\n",
    "    conn.rollback()  # in case the transaction cannot be commit, we want to roll back to the previous state (CONSISTENCY)\n",
    "\n",
    "\n",
    "# Select all elements from table auftrag and kunde (joined)\n",
    "sql = \"\"\"\n",
    "SELECT * FROM kunde LEFT JOIN auftrag ON auftrag.auftrag_kunde_id=kunde.kunde_id\n",
    "\"\"\"\n",
    "\n",
    "dat = sqlio.read_sql_query(sql, conn)\n",
    "dat\n"
   ]
  },
  {
   "cell_type": "markdown",
   "metadata": {},
   "source": [
    "## Let us try to create an inconsistent state\n",
    "The first statement is ok. The second statement tries to insert a row with an ID that is already assigned."
   ]
  },
  {
   "cell_type": "code",
   "execution_count": null,
   "metadata": {},
   "outputs": [],
   "source": [
    "insert_into_customer = \"INSERT INTO kunde VALUES (3, 'Jansen')\"\n",
    "insert_into_orders = \"INSERT INTO auftrag VALUES (10, 3, 'Banane')\"  # NOTE: here is the error - the ID 10 is already used\n",
    "\n",
    "try:\n",
    "    cur = conn.cursor()  # retrieving a database cursor starts the transaction\n",
    "    # the following two statements are executed in an all-or-none-proposition\n",
    "    \n",
    "    # DEFINE THE TWO STATEMENTS AS A LOGICAL UNIT HERE\n",
    "    \n",
    "    conn.commit()    \n",
    "except Exception as e:\n",
    "    print(\"Error inserting into table: {}\".format(e))\n",
    "    conn.rollback()  # in case the transaction cannot be commit, we want to roll back to the previous state (CONSISTENCY)\n",
    "\n",
    "\n",
    "# Select all elements from table auftrag and kunde (joined)\n",
    "sql = \"\"\"\n",
    "SELECT * FROM kunde LEFT JOIN auftrag ON auftrag.auftrag_kunde_id=kunde.kunde_id\n",
    "\"\"\"\n",
    "\n",
    "dat = sqlio.read_sql_query(sql, conn)\n",
    "dat # the new customer \"Jansen\" should not be added to the database"
   ]
  },
  {
   "cell_type": "markdown",
   "metadata": {},
   "source": [
    "## Let us take a look at isolation\n",
    "We now add a new customer and simulate something like a network bottleneck, i.e. wait some seconds between the first and second statement. While we are waiting after the first insert, other transactions should not be aware of the insert. We'll use two notebooks for this (otherwise the database connection just blocks while being stuck in the first transaction)."
   ]
  },
  {
   "cell_type": "code",
   "execution_count": null,
   "metadata": {},
   "outputs": [],
   "source": [
    "from time import sleep  # we will use this to start \"waiting\"\n",
    "\n",
    "insert_into_customer = \"INSERT INTO kunde VALUES (3, 'Jansen')\"\n",
    "insert_into_orders = \"INSERT INTO auftrag VALUES (20, 3, 'Banane')\"  # NOTE: the error is gone\n",
    "\n",
    "try:\n",
    "    cur = conn.cursor()  # retrieving a database cursor starts the transaction\n",
    "    # the following two statements are executed in an all-or-none-proposition\n",
    "    \n",
    "    # DEFINE THE TWO STATEMENTS AS A LOGICAL UNIT HERE (WITH SLEEP)\n",
    "    \n",
    "    conn.commit()    \n",
    "except Exception as e:\n",
    "    print(\"Error inserting into table: {}\".format(e))\n",
    "    conn.rollback()  # in case the transaction cannot be commit, we want to roll back to the previous state (CONSISTENCY)\n",
    "\n",
    "\n",
    "# Select all elements from table auftrag and kunde (joined)\n",
    "sql = \"\"\"\n",
    "SELECT * FROM kunde LEFT JOIN auftrag ON auftrag.auftrag_kunde_id=kunde.kunde_id\n",
    "\"\"\"\n",
    "\n",
    "dat = sqlio.read_sql_query(sql, conn)\n",
    "dat # the new customer \"Jansen\" should not be added to the database"
   ]
  },
  {
   "cell_type": "markdown",
   "metadata": {},
   "source": [
    "### This cell is used to repeat the case"
   ]
  },
  {
   "cell_type": "code",
   "execution_count": null,
   "metadata": {},
   "outputs": [],
   "source": [
    "try:\n",
    "    cur = conn.cursor()\n",
    "    cur.execute(\"DELETE FROM auftrag WHERE auftrag_kunde_id=3\")\n",
    "    cur.execute(\"DELETE FROM kunde WHERE kunde_id=3\")    \n",
    "    conn.commit()    \n",
    "except Exception as e:\n",
    "    print(\"Error deleting from table: {}\".format(e))\n",
    "    conn.rollback()  # in case the transaction cannot be commit, we want to roll back to the previous state (CONSISTENCY)"
   ]
  }
 ],
 "metadata": {
  "kernelspec": {
   "display_name": "Python 3",
   "language": "python",
   "name": "python3"
  },
  "language_info": {
   "codemirror_mode": {
    "name": "ipython",
    "version": 3
   },
   "file_extension": ".py",
   "mimetype": "text/x-python",
   "name": "python",
   "nbconvert_exporter": "python",
   "pygments_lexer": "ipython3",
   "version": "3.6.6"
  }
 },
 "nbformat": 4,
 "nbformat_minor": 2
}
