{
 "cells": [
  {
   "cell_type": "markdown",
   "metadata": {},
   "source": [
    "# Load required modules"
   ]
  },
  {
   "cell_type": "code",
   "execution_count": null,
   "metadata": {},
   "outputs": [],
   "source": [
    "from pymongo import MongoClient\n",
    "from pymongo.database import Database\n",
    "import pandas as pd"
   ]
  },
  {
   "cell_type": "markdown",
   "metadata": {},
   "source": [
    "# Connect to the NoSQL database\n",
    "You'll need to build the connection string based on the information in your MongoDB Atlas cluster."
   ]
  },
  {
   "cell_type": "code",
   "execution_count": null,
   "metadata": {},
   "outputs": [],
   "source": [
    "connection_string = \"PUT HERE THE CONNECTION STRING FROM ATLAS\"\n",
    "\n",
    "client = MongoClient(connection_string)\n",
    "my_second_db = Database(client, 'my_second_db')  # connect to a database\n"
   ]
  },
  {
   "cell_type": "markdown",
   "metadata": {},
   "source": [
    "# Insert data into a new table 'customer'"
   ]
  },
  {
   "cell_type": "code",
   "execution_count": null,
   "metadata": {},
   "outputs": [],
   "source": [
    "# MongoDB stores documents in the JSON format - here is an example of a document that corresponds to a row in a relational DB\n",
    "docs = [{\n",
    "    'customer_id' : 1,\n",
    "    'region' : 1\n",
    "},\n",
    "    {\n",
    "    'customer_id' : 2,\n",
    "    'region' : 2\n",
    "},\n",
    "    {\n",
    "    'customer_id' : 3,\n",
    "    'region' : 2\n",
    "},\n",
    "    {\n",
    "    'customer_id' : 4,\n",
    "    'region' : 2\n",
    "},\n",
    "    {\n",
    "    'customer_id' : 5,\n",
    "    'region' : 1\n",
    "},\n",
    "    \n",
    "    \n",
    "]\n",
    "\n",
    "\n",
    "my_second_db.customer.insert_many(docs)  # insert the document into the collection 'lieferant' (which is created automatically)"
   ]
  },
  {
   "cell_type": "markdown",
   "metadata": {},
   "source": [
    "# Read the inserted data"
   ]
  },
  {
   "cell_type": "code",
   "execution_count": null,
   "metadata": {},
   "outputs": [],
   "source": [
    "cursor = my_second_db.customer.find()\n",
    "\n",
    "df = pd.DataFrame(list(cursor))  # convert to a dataframe for better visualization\n",
    "df"
   ]
  },
  {
   "cell_type": "markdown",
   "metadata": {},
   "source": [
    "# Check which data is available on the single nodes\n",
    "## Node 0\n",
    "MongoDB calls nodes \"shards\"."
   ]
  },
  {
   "cell_type": "code",
   "execution_count": null,
   "metadata": {},
   "outputs": [],
   "source": [
    "# remove the shards 01 and 02 from the connection string\n",
    "connection_string_shard0 = \"PUT HERE THE CONNECTION STRING FROM ATLAS\"\n",
    "\n",
    "\n",
    "client_shard0 = MongoClient(connection_string_shard0)\n",
    "my_second_db_shard0 = Database(client_shard0, 'my_second_db')  # connect to a database\n",
    "\n",
    "cursor = my_second_db_shard0.customer.find()\n",
    "\n",
    "df = pd.DataFrame(list(cursor))  # convert to a dataframe for better visualization\n",
    "df"
   ]
  },
  {
   "cell_type": "markdown",
   "metadata": {},
   "source": [
    "## Node 1"
   ]
  },
  {
   "cell_type": "code",
   "execution_count": null,
   "metadata": {},
   "outputs": [],
   "source": [
    "# remove the shards 00 and 02 from the connection string\n",
    "connection_string_shard1 = \"PUT HERE THE CONNECTION STRING FROM ATLAS\"\n",
    "\n",
    "\n",
    "client_shard1 = MongoClient(connection_string_shard1)\n",
    "my_second_db_shard1 = Database(client_shard1, 'my_second_db')  # connect to a database\n",
    "\n",
    "cursor = my_second_db_shard1.customer.find()\n",
    "\n",
    "df = pd.DataFrame(list(cursor))  # convert to a dataframe for better visualization\n",
    "df"
   ]
  },
  {
   "cell_type": "markdown",
   "metadata": {},
   "source": [
    "## Node 2"
   ]
  },
  {
   "cell_type": "code",
   "execution_count": null,
   "metadata": {},
   "outputs": [],
   "source": [
    "# remove the shards 00 and 01 from the connection string\n",
    "connection_string_shard2 = \"PUT HERE THE CONNECTION STRING FROM ATLAS\"\n",
    "\n",
    "client_shard2 = MongoClient(connection_string_shard2)\n",
    "my_second_db_shard2 = Database(client_shard2, 'my_second_db')  # connect to a database\n",
    "\n",
    "cursor = my_second_db_shard2.customer.find()\n",
    "\n",
    "df = pd.DataFrame(list(cursor))  # convert to a dataframe for better visualization\n",
    "df"
   ]
  },
  {
   "cell_type": "markdown",
   "metadata": {},
   "source": [
    "# Result: Replication is Active\n",
    "Our MongoDB cluster replicates the data to all three nodes. This is called replication and our MongoDB is configured such that the three nodes build a replica set for our database. Replication allows availability of the database in case one (or two) nodes are down. Furthermore, it allows to spread read accesses to the data among the three nodes and hence improving (i.e. lowering) latency"
   ]
  },
  {
   "cell_type": "markdown",
   "metadata": {},
   "source": [
    "# How about Horizontal Scaling?\n",
    "Our free tier of MongoDB Atlas that we are using does not provide the functionality of \"sharding\" data. Sharding accounts for distributing data on different nodes (e.g. based on the region - put region 1 data on node 1 and region 2 data on node 2). Thus, horizontal scaling of this free cluster is not given, since we will always see all data on the three nodes (due to replication). <br> <br>\n",
    "By the way: Sharding with three nodes and a three-node replication set does not make sense at all.\n",
    "In a large scale commercial setup we would for example use 6 nodes with two replica sets. Three of the nodes hold the data for region 1, and three of the nodes hold the data for region 2.\n",
    "<br><br>\n",
    "<b>The Atlas MongoDB free tier is, hence, not made for scaling but just for getting to know MongoDB.</b>"
   ]
  },
  {
   "cell_type": "markdown",
   "metadata": {},
   "source": [
    "## Let us clean up"
   ]
  },
  {
   "cell_type": "code",
   "execution_count": null,
   "metadata": {},
   "outputs": [],
   "source": [
    "my_second_db.lieferant.delete_many({})"
   ]
  }
 ],
 "metadata": {
  "kernelspec": {
   "display_name": "Python 3",
   "language": "python",
   "name": "python3"
  },
  "language_info": {
   "codemirror_mode": {
    "name": "ipython",
    "version": 3
   },
   "file_extension": ".py",
   "mimetype": "text/x-python",
   "name": "python",
   "nbconvert_exporter": "python",
   "pygments_lexer": "ipython3",
   "version": "3.6.6"
  }
 },
 "nbformat": 4,
 "nbformat_minor": 2
}
